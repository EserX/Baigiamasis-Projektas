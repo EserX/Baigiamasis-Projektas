{
 "cells": [
  {
   "cell_type": "markdown",
   "id": "0a91cfcf",
   "metadata": {},
   "source": [
    "# Duomenų surinkimas iš portalų naudojant 'web-scraping'"
   ]
  },
  {
   "cell_type": "markdown",
   "id": "a65260e8",
   "metadata": {},
   "source": [
    "##  Duomenų surinkimas iš 'AUTOGIDAS.lt'"
   ]
  },
  {
   "cell_type": "code",
   "execution_count": 193,
   "id": "db5a7b99",
   "metadata": {},
   "outputs": [
    {
     "name": "stdout",
     "output_type": "stream",
     "text": [
      "Scraping links 1/1\n"
     ]
    }
   ],
   "source": [
    "# Šis kodas surenka kiekvieno automobilio nuorodą iš nurodyto puslapių skaičiaus ir patalpina juos į sąrašą ad_links\n",
    "from bs4 import BeautifulSoup\n",
    "import requests\n",
    "import csv\n",
    "import time\n",
    "\n",
    "# Naudojami headers, kurie imituja naršyklę \n",
    "headers = {\n",
    "    \"User-Agent\": \"Mozilla/5.0 (Windows NT 10.0; Win64; x64) AppleWebKit/537.36 (KHTML, like Gecko) Chrome/93.0.4577.63 Safari/537.36\"\n",
    "}\n",
    "url = 'https://autogidas.lt/skelbimai/automobiliai/'\n",
    "response = requests.get(url, headers=headers)\n",
    "soup = BeautifulSoup(response.text, 'html.parser')\n",
    "base_url = 'https://autogidas.lt'\n",
    "# nuorodos pabaigoje page={} irašius skaičių pvz page=2 nukeliaujama į antrą paslapį.\n",
    "url_template = '/skelbimai/automobiliai/?f_434[0]=Naudotas&f_1[0]=&f_model_14[0]=&f_50=kaina_asc&page={}'\n",
    "\n",
    "# total_pages reikia nustatyti 1 psl daugiau nei norima scrapinti\n",
    "total_pages = 2\n",
    "# Sukuriamas tuščias sąrašas\n",
    "ad_links = []\n",
    "\n",
    "# Ciklas eiti per puslapius.\n",
    "for page_number in range(1, total_pages):\n",
    "    print(f\"Scraping links {page_number}/{total_pages-1}\")  \n",
    "    main_url = base_url + url_template.format(page_number)\n",
    "    source = requests.get(main_url, headers=headers).text\n",
    "    main_soup = BeautifulSoup(source, 'html.parser')\n",
    "    time.sleep(0.2)  # add 0.2 seconds time delay\n",
    "    \n",
    "    # Ciklas surinkti konkretaus skelbimo nuorodas, įdėti į sąrašą ad_links\n",
    "    for article in main_soup.find_all('article', class_='list-item'):\n",
    "        ad_link = article.find('a', class_='item-link')['href']\n",
    "        ad_links.append('https://autogidas.lt' + ad_link)\n",
    "        time.sleep(0.1)  # add 0.2 seconds time delay\n"
   ]
  },
  {
   "cell_type": "code",
   "execution_count": 194,
   "id": "a917f985",
   "metadata": {},
   "outputs": [
    {
     "name": "stdout",
     "output_type": "stream",
     "text": [
      "Scraping page 1/30\n",
      "Scraping page 2/30\n",
      "Scraping page 3/30\n",
      "Scraping page 4/30\n",
      "Scraping page 5/30\n",
      "Scraping page 6/30\n",
      "Scraping page 7/30\n",
      "Scraping page 8/30\n",
      "Scraping page 9/30\n",
      "Scraping page 10/30\n",
      "Scraping page 11/30\n",
      "Scraping page 12/30\n",
      "Scraping page 13/30\n",
      "Scraping page 14/30\n",
      "Scraping page 15/30\n",
      "Scraping page 16/30\n",
      "Scraping page 17/30\n",
      "Scraping page 18/30\n",
      "Scraping page 19/30\n",
      "Scraping page 20/30\n",
      "Scraping page 21/30\n",
      "Scraping page 22/30\n",
      "Scraping page 23/30\n",
      "Scraping page 24/30\n",
      "Scraping page 25/30\n",
      "Scraping page 26/30\n",
      "Scraping page 27/30\n",
      "Scraping page 28/30\n",
      "Scraping page 29/30\n",
      "Scraping page 30/30\n"
     ]
    }
   ],
   "source": [
    "# Šis kodas kodas surenka informaciją iš kiekvienos nuorodos ir patalpina informaciją į csv failą. \n",
    "column_names = ['Kaina', 'Markė', 'Modelis', 'Metai', 'Variklis', 'Kuro tipas', 'Kėbulo tipas', 'Pavarų dėžė', 'Defektai', 'Vairo padėtis', 'Durų skaičius', 'TA iki', 'Rida', 'Svoris, kg', 'Ratlankiai', 'CO2 emisija, g/km', 'Euro standartas', 'Mieste', 'Užmiestyje']\n",
    "\n",
    "page_number = 1\n",
    "\n",
    "#Sukuriamas csv failas su galimybe rašyti, įrašomi stulpelių pavadinimai\n",
    "with open(\"autogidas_car_info_test\", \"w\", encoding=\"UTF-8\", newline='') as failas:\n",
    "    csv_writer = csv.DictWriter(failas, fieldnames=column_names)\n",
    "    csv_writer.writeheader()\n",
    "    \n",
    "    for ad_link in ad_links:\n",
    "        print(f\"Scraping page {page_number}/{len(ad_links)}\")\n",
    "        source = requests.get(ad_link, headers=headers).text\n",
    "        soup = BeautifulSoup(source, 'html.parser')\n",
    "        time.sleep(0.2)\n",
    "\n",
    "        try:\n",
    "            car_info = {}\n",
    "            # Atskirai paimama kainos informacija\n",
    "            Kaina = soup.find('div', class_='price').text.strip().replace(\",\", \"\").replace(\" €\", \"\").replace(\" \", \"\")\n",
    "            car_info['Kaina'] = Kaina\n",
    "\n",
    "            labels = soup.find_all('div', class_='left')\n",
    "            params = soup.find_all('div', class_='right')\n",
    "            \n",
    "            # Ciklas surinkti informacijai iš params bloko ir įrašyti informaciją į csv\n",
    "            for label, param in zip(labels, params):\n",
    "                label_text = label.text.strip()\n",
    "                time.sleep(0.1)\n",
    "                # Surenkama tik ta informacija kuri atitinka stulpelių pavadinimus\n",
    "                if label_text in column_names:\n",
    "                    car_info[label_text] = param.text.strip()\n",
    "            csv_writer.writerow(car_info)\n",
    "        except:\n",
    "            pass\n",
    "        page_number += 1"
   ]
  },
  {
   "cell_type": "markdown",
   "id": "ea1f01ae",
   "metadata": {},
   "source": [
    "## Duomenų surinkimas iš 'AUTOBILIS.lt'"
   ]
  },
  {
   "cell_type": "code",
   "execution_count": 195,
   "id": "5d80d1e5",
   "metadata": {},
   "outputs": [
    {
     "name": "stdout",
     "output_type": "stream",
     "text": [
      "Scraping links 1/1\n"
     ]
    }
   ],
   "source": [
    "# Šis kodas surenka kiekvieno automobilio nuorodą iš nurodyto puslapių skaičiaus ir patalpina juos į sąrašą ad_links.\n",
    "# Naudojami headers, kurie imituja naršyklę.\n",
    "headers = {\n",
    "    \"User-Agent\": \"Mozilla/5.0 (Windows NT 10.0; Win64; x64) AppleWebKit/537.36 (KHTML, like Gecko) Chrome/93.0.4577.63 Safari/537.36\"\n",
    "}\n",
    "base_url = 'https://www.autobilis.lt'\n",
    "# nuorodos pabaigoje page={} irašius skaičių pvz page=2 nukeliaujama į antrą paslapį.\n",
    "url_template = '/skelbimai/naudoti-automobiliai?category_id=1&amp%3Bpage=2&page={}'\n",
    "\n",
    "#total_pages reikia nustatyti 1 psl daugiau nei norima scrapinti\n",
    "total_pages = 2\n",
    "\n",
    "ad_links = []\n",
    "\n",
    "# Ciklas eiti per puslapius.\n",
    "for page_number in range(1, total_pages):\n",
    "    print(f\"Scraping links {page_number}/{total_pages-1}\")  \n",
    "    main_url = base_url + url_template.format(page_number)\n",
    "    source = requests.get(main_url, headers=headers).text\n",
    "    main_soup = BeautifulSoup(source, 'html.parser')\n",
    "    time.sleep(0.1)  \n",
    "    \n",
    "    # Ciklas surinkti konkretaus skelbimo nuorodas, įdėti į sąrašą ad_links\n",
    "    for article in main_soup.find_all('div', class_='search-rezult-content'):\n",
    "        ad_link_element = article.find('a')\n",
    "        if ad_link_element:\n",
    "            ad_link = ad_link_element['href']\n",
    "            ad_links.append(ad_link)\n",
    "         #   time.sleep(0.2)  \n"
   ]
  },
  {
   "cell_type": "code",
   "execution_count": 196,
   "id": "0f3e6656",
   "metadata": {
    "scrolled": false
   },
   "outputs": [
    {
     "name": "stdout",
     "output_type": "stream",
     "text": [
      "Scraping page 1/20\n",
      "Scraping page 2/20\n",
      "Scraping page 3/20\n",
      "Scraping page 4/20\n",
      "Scraping page 5/20\n",
      "Scraping page 6/20\n",
      "Scraping page 7/20\n",
      "Scraping page 8/20\n",
      "Scraping page 9/20\n",
      "Scraping page 10/20\n",
      "Scraping page 11/20\n",
      "Scraping page 12/20\n",
      "Scraping page 13/20\n",
      "Scraping page 14/20\n",
      "Scraping page 15/20\n",
      "Scraping page 16/20\n",
      "Scraping page 17/20\n",
      "Scraping page 18/20\n",
      "Scraping page 19/20\n",
      "Scraping page 20/20\n"
     ]
    }
   ],
   "source": [
    "# Šis kodas kodas surenka informaciją iš kiekvienos nuorodos ir patalpina informaciją į csv failą. \n",
    "headers = {\n",
    "    \"User-Agent\": \"Mozilla/5.0 (Windows NT 10.0; Win64; x64) AppleWebKit/537.36 (KHTML, like Gecko) Chrome/93.0.4577.63 Safari/537.36\"\n",
    "}\n",
    "\n",
    "column_names = ['Kaina', 'Markė', 'Modelis', 'Pagaminimo data', 'Rida','Darbinis tūris, l.','Galia, kW','Kuro tipas','Pavarų dėžė','Kėbulo tipas','Durų skaičius','CO₂ emisija, g/km','Būklė','Vairo padėtis']\n",
    "\n",
    "page_number = 1\n",
    "\n",
    "with open(\"autobilis_car_info_test.csv\", \"w\", encoding=\"UTF-8\", newline='') as failas:\n",
    "    csv_writer = csv.DictWriter(failas, fieldnames=column_names)\n",
    "    csv_writer.writeheader()\n",
    "\n",
    "    for ad_link in ad_links:\n",
    "        print(f\"Scraping page {page_number}/{len(ad_links)}\")\n",
    "        source = requests.get(ad_link, headers=headers).text\n",
    "        soup = BeautifulSoup(source, 'html.parser')\n",
    "        time.sleep(0.2)\n",
    "\n",
    "        try:\n",
    "            car_info = {}\n",
    "            # Atskirai paimama kainos informacija\n",
    "            Kaina = soup.find('span', class_='price-value').text.strip()#.replace(\",\", \"\").replace(\" €\", \"\").replace(\" \", \"\")\n",
    "            car_info['Kaina'] = Kaina\n",
    "\n",
    "            car_info_rows = soup.find_all('div', class_='row car-info-r')\n",
    "            for row in car_info_rows:\n",
    "                labels = row.find('div', class_='col-sm-6 car-info-h')\n",
    "                params = row.find('div', class_='col-sm-6 car-info-c')\n",
    "                #time.sleep(0.2)\n",
    "             \n",
    "            # Ciklas surinkti informacijai iš params bloko\n",
    "                for label, param in zip(labels, params):\n",
    "                    label_text = label.text.strip()\n",
    "                    time.sleep(0.1)\n",
    "                    # surenkama tik ta informacija kuri atitinka stulpelių pavadinimus\n",
    "                    if label_text in column_names:\n",
    "                        car_info[label_text] = param.text.strip()\n",
    "            csv_writer.writerow(car_info)\n",
    "        except:\n",
    "            pass\n",
    "        page_number += 1               \n",
    "        "
   ]
  },
  {
   "cell_type": "markdown",
   "id": "20da3702",
   "metadata": {},
   "source": [
    "## Duomenų surinkimas iš 'AUTOPLIUS.lt'"
   ]
  },
  {
   "cell_type": "code",
   "execution_count": 103,
   "id": "1784bfd1",
   "metadata": {},
   "outputs": [],
   "source": [
    "from selenium import webdriver\n",
    "from selenium.common.exceptions import NoSuchElementException\n",
    "\n",
    "#Į system 32 reikia parsisiųsti įkelti Chrome WebDriver iš https://chromedriver.chromium.org/downloads pagal chrome naršyklės versiją\n",
    "driver = webdriver.Chrome() \n",
    "\n",
    "# Iki kurio puslapio scrapinama informacija\n",
    "num_pages = 2\n",
    "\n",
    "#  Įrašomas csv failo pavadinimas  \n",
    "with open('autoplius_5.csv', 'w', newline='', encoding='utf-8-sig') as csv_file:\n",
    "    writer = csv.writer(csv_file)\n",
    "\n",
    "    # Įrašomi stulpelių pavadinimai į csv\n",
    "    header = ['Kaina', 'Markė', 'Modelis', 'Metai', 'Kuro tipas', 'Kėbulo tipas', 'Pavarų dėžė', 'Variklis', 'Rida']\n",
    "    writer.writerow(header)\n",
    "\n",
    "    # Ciklo pradžia\n",
    "    for page in range(1, num_pages + 1):\n",
    "        driver.get(f'https://autoplius.lt/skelbimai/naudoti-automobiliai?page_nr={page}')\n",
    "\n",
    "        # Randami visi automobilių skelbimai viename puslapyje\n",
    "        car_listings = driver.find_elements_by_css_selector('.announcement-item')\n",
    "\n",
    "        # Ciklas ištraukti informacijai iš kiekvieno automobio elemento\n",
    "        for car_listing in car_listings:\n",
    "            try:\n",
    "                # Traukia pasirinktą informaciją\n",
    "                body_element = car_listing.find_element_by_css_selector('.announcement-body')\n",
    "\n",
    "                title_container_element = body_element.find_element_by_css_selector('.announcement-title-container')\n",
    "                title_element = title_container_element.find_element_by_css_selector('.announcement-title')\n",
    "                markes_modelis = title_element.text.strip()\n",
    "                marke, modelis = markes_modelis.split(' ', 1)\n",
    "\n",
    "                title_parameters_element = title_container_element.find_element_by_css_selector('.announcement-parameters')\n",
    "                metai = title_parameters_element.find_element_by_css_selector('span:nth-child(1)').text.strip()\n",
    "                kebulo_tipas = title_parameters_element.find_element_by_css_selector('span:nth-child(2)').text.strip()\n",
    "\n",
    "                pricing_info_element = body_element.find_element_by_css_selector('.announcement-pricing-info')\n",
    "                kaina = pricing_info_element.find_element_by_css_selector('strong').text.strip()\n",
    "\n",
    "                parameters_element = body_element.find_element_by_css_selector('.announcement-parameters-block .announcement-parameters')\n",
    "                kuro_tipas = parameters_element.find_element_by_xpath('span[1]').text.strip()\n",
    "                pavaros_deze = parameters_element.find_element_by_xpath('span[2]').text.strip()\n",
    "                variklis = parameters_element.find_element_by_xpath('span[3]').text.strip()\n",
    "                rida = parameters_element.find_element_by_xpath('span[4]').text.strip()\n",
    "                # Įrašo informaciją į csv\n",
    "                row = [kaina, marke, modelis, metai, kuro_tipas, kebulo_tipas, pavaros_deze, variklis,rida]\n",
    "                writer.writerow(row)\n",
    "            except NoSuchElementException:\n",
    "                # Jei neranda elementų neišmeta error ir eina prie kito automobilio skelbimo\n",
    "                continue\n",
    "\n",
    "# Uždaryti naršyklę\n",
    "driver.quit()\n"
   ]
  },
  {
   "cell_type": "markdown",
   "id": "f0f4553b",
   "metadata": {},
   "source": [
    "_____________________________"
   ]
  },
  {
   "cell_type": "markdown",
   "id": "cd60df85",
   "metadata": {},
   "source": [
    "# Duomenų tvarkymas ir paruošimas modeliui"
   ]
  },
  {
   "cell_type": "markdown",
   "id": "157cfff4",
   "metadata": {},
   "source": [
    "## AUTOGIDAS duomenų tvarkymas"
   ]
  },
  {
   "cell_type": "code",
   "execution_count": 104,
   "id": "9e4e88b0",
   "metadata": {},
   "outputs": [],
   "source": [
    "import pandas as pd\n",
    "import numpy as np\n",
    "import matplotlib.pyplot as plt\n",
    "\n",
    "#Įkeliamas scrapintų duomenų rinkinys\n",
    "autogidas_df = pd.read_csv('autogidas_car_info.csv', sep = ',', usecols = [1,2,3,4,5,6,7,8,9,10,11,12,13,14,15,16,17,18,19], index_col=False, encoding = 'utf-8')"
   ]
  },
  {
   "cell_type": "code",
   "execution_count": 105,
   "id": "4b03e691",
   "metadata": {
    "scrolled": true
   },
   "outputs": [],
   "source": [
    "pd.options.display.max_rows = 9999"
   ]
  },
  {
   "cell_type": "code",
   "execution_count": 106,
   "id": "c6abaf91",
   "metadata": {
    "scrolled": false
   },
   "outputs": [
    {
     "data": {
      "text/html": [
       "<div>\n",
       "<style scoped>\n",
       "    .dataframe tbody tr th:only-of-type {\n",
       "        vertical-align: middle;\n",
       "    }\n",
       "\n",
       "    .dataframe tbody tr th {\n",
       "        vertical-align: top;\n",
       "    }\n",
       "\n",
       "    .dataframe thead th {\n",
       "        text-align: right;\n",
       "    }\n",
       "</style>\n",
       "<table border=\"1\" class=\"dataframe\">\n",
       "  <thead>\n",
       "    <tr style=\"text-align: right;\">\n",
       "      <th></th>\n",
       "      <th>Kaina</th>\n",
       "      <th>Markė</th>\n",
       "      <th>Modelis</th>\n",
       "      <th>Metai</th>\n",
       "      <th>Variklis</th>\n",
       "      <th>Kuro tipas</th>\n",
       "      <th>Kėbulo tipas</th>\n",
       "      <th>Pavarų dėžė</th>\n",
       "      <th>Defektai</th>\n",
       "      <th>Vairo padėtis</th>\n",
       "      <th>Durų skaičius</th>\n",
       "      <th>TA iki</th>\n",
       "      <th>Rida</th>\n",
       "      <th>Svoris, kg</th>\n",
       "      <th>Ratlankiai</th>\n",
       "      <th>CO2 emisija, g/km</th>\n",
       "      <th>Euro standartas</th>\n",
       "      <th>Mieste</th>\n",
       "      <th>Užmiestyje</th>\n",
       "    </tr>\n",
       "  </thead>\n",
       "  <tbody>\n",
       "    <tr>\n",
       "      <th>0</th>\n",
       "      <td>8 500 €</td>\n",
       "      <td>Hyundai</td>\n",
       "      <td>H-1</td>\n",
       "      <td>2011-08</td>\n",
       "      <td>2.5 l. 125 kW (170 Ag)</td>\n",
       "      <td>Dyzelinas</td>\n",
       "      <td>Keleivinis mikroautobusas</td>\n",
       "      <td>Mechaninė</td>\n",
       "      <td>Be defektų</td>\n",
       "      <td>Kairėje</td>\n",
       "      <td>4/5</td>\n",
       "      <td>NaN</td>\n",
       "      <td>267 000 km</td>\n",
       "      <td>3160 kg</td>\n",
       "      <td>R16</td>\n",
       "      <td>225.00</td>\n",
       "      <td>Euro 4</td>\n",
       "      <td>11.50</td>\n",
       "      <td>7.30</td>\n",
       "    </tr>\n",
       "    <tr>\n",
       "      <th>1</th>\n",
       "      <td>2 800 €</td>\n",
       "      <td>Audi</td>\n",
       "      <td>A6</td>\n",
       "      <td>2007-10</td>\n",
       "      <td>2.8 l.</td>\n",
       "      <td>Benzinas</td>\n",
       "      <td>Universalas</td>\n",
       "      <td>Mechaninė</td>\n",
       "      <td>Be defektų</td>\n",
       "      <td>Kairėje</td>\n",
       "      <td>4/5</td>\n",
       "      <td>2025-04</td>\n",
       "      <td>NaN</td>\n",
       "      <td>NaN</td>\n",
       "      <td>R17</td>\n",
       "      <td>NaN</td>\n",
       "      <td>NaN</td>\n",
       "      <td>NaN</td>\n",
       "      <td>NaN</td>\n",
       "    </tr>\n",
       "    <tr>\n",
       "      <th>2</th>\n",
       "      <td>2 550 €</td>\n",
       "      <td>Skoda</td>\n",
       "      <td>Fabia</td>\n",
       "      <td>2008-05</td>\n",
       "      <td>1.4 l. 59 kW (80 Ag)</td>\n",
       "      <td>Dyzelinas</td>\n",
       "      <td>Hečbekas</td>\n",
       "      <td>Mechaninė</td>\n",
       "      <td>Be defektų</td>\n",
       "      <td>Kairėje</td>\n",
       "      <td>4/5</td>\n",
       "      <td>NaN</td>\n",
       "      <td>234 000 km</td>\n",
       "      <td>1645 kg</td>\n",
       "      <td>R14</td>\n",
       "      <td>120.00</td>\n",
       "      <td>Euro 4</td>\n",
       "      <td>5.70</td>\n",
       "      <td>4.00</td>\n",
       "    </tr>\n",
       "  </tbody>\n",
       "</table>\n",
       "</div>"
      ],
      "text/plain": [
       "     Kaina    Markė Modelis    Metai                Variklis Kuro tipas  \\\n",
       "0  8 500 €  Hyundai     H-1  2011-08  2.5 l. 125 kW (170 Ag)  Dyzelinas   \n",
       "1  2 800 €     Audi      A6  2007-10                  2.8 l.   Benzinas   \n",
       "2  2 550 €    Skoda   Fabia  2008-05    1.4 l. 59 kW (80 Ag)  Dyzelinas   \n",
       "\n",
       "                Kėbulo tipas Pavarų dėžė    Defektai Vairo padėtis  \\\n",
       "0  Keleivinis mikroautobusas   Mechaninė  Be defektų       Kairėje   \n",
       "1                Universalas   Mechaninė  Be defektų       Kairėje   \n",
       "2                   Hečbekas   Mechaninė  Be defektų       Kairėje   \n",
       "\n",
       "  Durų skaičius   TA iki        Rida Svoris, kg Ratlankiai  CO2 emisija, g/km  \\\n",
       "0           4/5      NaN  267 000 km    3160 kg        R16             225.00   \n",
       "1           4/5  2025-04         NaN        NaN        R17                NaN   \n",
       "2           4/5      NaN  234 000 km    1645 kg        R14             120.00   \n",
       "\n",
       "  Euro standartas  Mieste  Užmiestyje  \n",
       "0          Euro 4   11.50        7.30  \n",
       "1             NaN     NaN         NaN  \n",
       "2          Euro 4    5.70        4.00  "
      ]
     },
     "execution_count": 106,
     "metadata": {},
     "output_type": "execute_result"
    }
   ],
   "source": [
    "autogidas_df.head(3)"
   ]
  },
  {
   "cell_type": "code",
   "execution_count": 107,
   "id": "1c6816f6",
   "metadata": {},
   "outputs": [],
   "source": [
    "# Stulpelį \"Variklis\" padalinam į du atskirus stulpelius 'Darbinis tūris, l.' ir 'Galia, kW'\n",
    "autogidas_df['Darbinis tūris, l.'] = autogidas_df['Variklis'].str.extract('(\\d+.\\d+) l.')\n",
    "autogidas_df['Galia, kW'] = autogidas_df['Variklis'].str.extract('(\\d+) kW')"
   ]
  },
  {
   "cell_type": "code",
   "execution_count": 108,
   "id": "9fde60e8",
   "metadata": {},
   "outputs": [],
   "source": [
    "# Ištrinam eilutes, kuriose kaina nurodyta su mokesčiais\n",
    "autogidas_df = autogidas_df[~autogidas_df[\"Kaina\"].str.contains(\"mokesčiai\")]"
   ]
  },
  {
   "cell_type": "code",
   "execution_count": 109,
   "id": "b12fb578",
   "metadata": {},
   "outputs": [],
   "source": [
    "# Išvalau \"€\" simbolį ir tarpus \"Kaina\" stulpelyje\n",
    "autogidas_df[\"Kaina\"] = autogidas_df[\"Kaina\"].str.replace(r\"\\s\", \"\", regex=True).str.replace(\"€\", \"\").astype(int)"
   ]
  },
  {
   "cell_type": "code",
   "execution_count": 110,
   "id": "7953213e",
   "metadata": {},
   "outputs": [],
   "source": [
    "#Iš 'Metai' stulpelio paimam tik metus, panaikinam mėnesį\n",
    "autogidas_df['Metai'] = autogidas_df['Metai'].str.extract(r'(\\d{4})')"
   ]
  },
  {
   "cell_type": "code",
   "execution_count": 111,
   "id": "94c76adc",
   "metadata": {},
   "outputs": [],
   "source": [
    "# Sutvarkau stulpelį \"Rida\", panaikindamas tarpą ir 'km'\n",
    "autogidas_df['Rida'] = autogidas_df['Rida'].str.replace(' km', '').str.replace(' ', '')"
   ]
  },
  {
   "cell_type": "code",
   "execution_count": 112,
   "id": "e6f7d141",
   "metadata": {
    "scrolled": true
   },
   "outputs": [
    {
     "data": {
      "text/html": [
       "<div>\n",
       "<style scoped>\n",
       "    .dataframe tbody tr th:only-of-type {\n",
       "        vertical-align: middle;\n",
       "    }\n",
       "\n",
       "    .dataframe tbody tr th {\n",
       "        vertical-align: top;\n",
       "    }\n",
       "\n",
       "    .dataframe thead th {\n",
       "        text-align: right;\n",
       "    }\n",
       "</style>\n",
       "<table border=\"1\" class=\"dataframe\">\n",
       "  <thead>\n",
       "    <tr style=\"text-align: right;\">\n",
       "      <th></th>\n",
       "      <th>Kaina</th>\n",
       "      <th>Markė</th>\n",
       "      <th>Modelis</th>\n",
       "      <th>Metai</th>\n",
       "      <th>Variklis</th>\n",
       "      <th>Kuro tipas</th>\n",
       "      <th>Kėbulo tipas</th>\n",
       "      <th>Pavarų dėžė</th>\n",
       "      <th>Defektai</th>\n",
       "      <th>Vairo padėtis</th>\n",
       "      <th>...</th>\n",
       "      <th>TA iki</th>\n",
       "      <th>Rida</th>\n",
       "      <th>Svoris, kg</th>\n",
       "      <th>Ratlankiai</th>\n",
       "      <th>CO2 emisija, g/km</th>\n",
       "      <th>Euro standartas</th>\n",
       "      <th>Mieste</th>\n",
       "      <th>Užmiestyje</th>\n",
       "      <th>Darbinis tūris, l.</th>\n",
       "      <th>Galia, kW</th>\n",
       "    </tr>\n",
       "  </thead>\n",
       "  <tbody>\n",
       "    <tr>\n",
       "      <th>0</th>\n",
       "      <td>8500</td>\n",
       "      <td>Hyundai</td>\n",
       "      <td>H-1</td>\n",
       "      <td>2011</td>\n",
       "      <td>2.5 l. 125 kW (170 Ag)</td>\n",
       "      <td>Dyzelinas</td>\n",
       "      <td>Keleivinis mikroautobusas</td>\n",
       "      <td>Mechaninė</td>\n",
       "      <td>Be defektų</td>\n",
       "      <td>Kairėje</td>\n",
       "      <td>...</td>\n",
       "      <td>NaN</td>\n",
       "      <td>267000</td>\n",
       "      <td>3160 kg</td>\n",
       "      <td>R16</td>\n",
       "      <td>225.00</td>\n",
       "      <td>Euro 4</td>\n",
       "      <td>11.50</td>\n",
       "      <td>7.30</td>\n",
       "      <td>2.5</td>\n",
       "      <td>125</td>\n",
       "    </tr>\n",
       "    <tr>\n",
       "      <th>1</th>\n",
       "      <td>2800</td>\n",
       "      <td>Audi</td>\n",
       "      <td>A6</td>\n",
       "      <td>2007</td>\n",
       "      <td>2.8 l.</td>\n",
       "      <td>Benzinas</td>\n",
       "      <td>Universalas</td>\n",
       "      <td>Mechaninė</td>\n",
       "      <td>Be defektų</td>\n",
       "      <td>Kairėje</td>\n",
       "      <td>...</td>\n",
       "      <td>2025-04</td>\n",
       "      <td>NaN</td>\n",
       "      <td>NaN</td>\n",
       "      <td>R17</td>\n",
       "      <td>NaN</td>\n",
       "      <td>NaN</td>\n",
       "      <td>NaN</td>\n",
       "      <td>NaN</td>\n",
       "      <td>2.8</td>\n",
       "      <td>NaN</td>\n",
       "    </tr>\n",
       "    <tr>\n",
       "      <th>2</th>\n",
       "      <td>2550</td>\n",
       "      <td>Skoda</td>\n",
       "      <td>Fabia</td>\n",
       "      <td>2008</td>\n",
       "      <td>1.4 l. 59 kW (80 Ag)</td>\n",
       "      <td>Dyzelinas</td>\n",
       "      <td>Hečbekas</td>\n",
       "      <td>Mechaninė</td>\n",
       "      <td>Be defektų</td>\n",
       "      <td>Kairėje</td>\n",
       "      <td>...</td>\n",
       "      <td>NaN</td>\n",
       "      <td>234000</td>\n",
       "      <td>1645 kg</td>\n",
       "      <td>R14</td>\n",
       "      <td>120.00</td>\n",
       "      <td>Euro 4</td>\n",
       "      <td>5.70</td>\n",
       "      <td>4.00</td>\n",
       "      <td>1.4</td>\n",
       "      <td>59</td>\n",
       "    </tr>\n",
       "  </tbody>\n",
       "</table>\n",
       "<p>3 rows × 21 columns</p>\n",
       "</div>"
      ],
      "text/plain": [
       "   Kaina    Markė Modelis Metai                Variklis Kuro tipas  \\\n",
       "0   8500  Hyundai     H-1  2011  2.5 l. 125 kW (170 Ag)  Dyzelinas   \n",
       "1   2800     Audi      A6  2007                  2.8 l.   Benzinas   \n",
       "2   2550    Skoda   Fabia  2008    1.4 l. 59 kW (80 Ag)  Dyzelinas   \n",
       "\n",
       "                Kėbulo tipas Pavarų dėžė    Defektai Vairo padėtis  ...  \\\n",
       "0  Keleivinis mikroautobusas   Mechaninė  Be defektų       Kairėje  ...   \n",
       "1                Universalas   Mechaninė  Be defektų       Kairėje  ...   \n",
       "2                   Hečbekas   Mechaninė  Be defektų       Kairėje  ...   \n",
       "\n",
       "    TA iki    Rida Svoris, kg Ratlankiai CO2 emisija, g/km  Euro standartas  \\\n",
       "0      NaN  267000    3160 kg        R16            225.00           Euro 4   \n",
       "1  2025-04     NaN        NaN        R17               NaN              NaN   \n",
       "2      NaN  234000    1645 kg        R14            120.00           Euro 4   \n",
       "\n",
       "  Mieste  Užmiestyje  Darbinis tūris, l. Galia, kW  \n",
       "0  11.50        7.30                 2.5       125  \n",
       "1    NaN         NaN                 2.8       NaN  \n",
       "2   5.70        4.00                 1.4        59  \n",
       "\n",
       "[3 rows x 21 columns]"
      ]
     },
     "execution_count": 112,
     "metadata": {},
     "output_type": "execute_result"
    }
   ],
   "source": [
    "autogidas_df.head(3)"
   ]
  },
  {
   "cell_type": "code",
   "execution_count": 113,
   "id": "6ffe8cb7",
   "metadata": {},
   "outputs": [],
   "source": [
    "# Ištrinam stulpelius: 'Ratlankiai','Svoris, kg','Euro standartas','Variklis','Mieste','Užmiestyje'\n",
    "autogidas_df = autogidas_df.drop(columns=['Ratlankiai','Svoris, kg','Euro standartas','Variklis','Mieste','Užmiestyje','TA iki','CO2 emisija, g/km','Defektai','Vairo padėtis','Durų skaičius'])"
   ]
  },
  {
   "cell_type": "code",
   "execution_count": 114,
   "id": "65cf7401",
   "metadata": {
    "scrolled": true
   },
   "outputs": [
    {
     "name": "stdout",
     "output_type": "stream",
     "text": [
      "<class 'pandas.core.frame.DataFrame'>\n",
      "Int64Index: 9217 entries, 0 to 9440\n",
      "Data columns (total 10 columns):\n",
      " #   Column              Non-Null Count  Dtype \n",
      "---  ------              --------------  ----- \n",
      " 0   Kaina               9217 non-null   int32 \n",
      " 1   Markė               9214 non-null   object\n",
      " 2   Modelis             9214 non-null   object\n",
      " 3   Metai               9213 non-null   object\n",
      " 4   Kuro tipas          9214 non-null   object\n",
      " 5   Kėbulo tipas        9214 non-null   object\n",
      " 6   Pavarų dėžė         9214 non-null   object\n",
      " 7   Rida                6998 non-null   object\n",
      " 8   Darbinis tūris, l.  9021 non-null   object\n",
      " 9   Galia, kW           8274 non-null   object\n",
      "dtypes: int32(1), object(9)\n",
      "memory usage: 756.1+ KB\n"
     ]
    }
   ],
   "source": [
    "autogidas_df.info()"
   ]
  },
  {
   "cell_type": "code",
   "execution_count": 115,
   "id": "f8c34c64",
   "metadata": {
    "scrolled": false
   },
   "outputs": [
    {
     "data": {
      "text/html": [
       "<div>\n",
       "<style scoped>\n",
       "    .dataframe tbody tr th:only-of-type {\n",
       "        vertical-align: middle;\n",
       "    }\n",
       "\n",
       "    .dataframe tbody tr th {\n",
       "        vertical-align: top;\n",
       "    }\n",
       "\n",
       "    .dataframe thead th {\n",
       "        text-align: right;\n",
       "    }\n",
       "</style>\n",
       "<table border=\"1\" class=\"dataframe\">\n",
       "  <thead>\n",
       "    <tr style=\"text-align: right;\">\n",
       "      <th></th>\n",
       "      <th>Kaina</th>\n",
       "    </tr>\n",
       "  </thead>\n",
       "  <tbody>\n",
       "    <tr>\n",
       "      <th>count</th>\n",
       "      <td>9217.00</td>\n",
       "    </tr>\n",
       "    <tr>\n",
       "      <th>mean</th>\n",
       "      <td>6491.72</td>\n",
       "    </tr>\n",
       "    <tr>\n",
       "      <th>std</th>\n",
       "      <td>9968.89</td>\n",
       "    </tr>\n",
       "    <tr>\n",
       "      <th>min</th>\n",
       "      <td>62.00</td>\n",
       "    </tr>\n",
       "    <tr>\n",
       "      <th>25%</th>\n",
       "      <td>1500.00</td>\n",
       "    </tr>\n",
       "    <tr>\n",
       "      <th>50%</th>\n",
       "      <td>2999.00</td>\n",
       "    </tr>\n",
       "    <tr>\n",
       "      <th>75%</th>\n",
       "      <td>6599.00</td>\n",
       "    </tr>\n",
       "    <tr>\n",
       "      <th>max</th>\n",
       "      <td>139000.00</td>\n",
       "    </tr>\n",
       "  </tbody>\n",
       "</table>\n",
       "</div>"
      ],
      "text/plain": [
       "          Kaina\n",
       "count   9217.00\n",
       "mean    6491.72\n",
       "std     9968.89\n",
       "min       62.00\n",
       "25%     1500.00\n",
       "50%     2999.00\n",
       "75%     6599.00\n",
       "max   139000.00"
      ]
     },
     "execution_count": 115,
     "metadata": {},
     "output_type": "execute_result"
    }
   ],
   "source": [
    "autogidas_df.describe()"
   ]
  },
  {
   "cell_type": "markdown",
   "id": "2168ba0f",
   "metadata": {},
   "source": [
    "_______________________________________________________"
   ]
  },
  {
   "cell_type": "markdown",
   "id": "0895fe36",
   "metadata": {},
   "source": [
    "## AUTOBILIS duomenų tvarkymas"
   ]
  },
  {
   "cell_type": "code",
   "execution_count": 116,
   "id": "52618d43",
   "metadata": {},
   "outputs": [],
   "source": [
    "import pandas as pd\n",
    "#Įkeliam duomenis ir pridedam stulpelių pavadinimus, kadangi jie nebuvo pridėti\n",
    "autobilis_df = pd.read_csv('autobilis_car_info_new',names=['Kaina', 'Markė', 'Modelis', 'Metai', 'Rida','Darbinis tūris, l.','Galia, kW','Kuro tipas','Pavarų dėžė','Kėbulo tipas','Durų skaičius','CO2 emisija, g/km','Defektai','Vairo padėtis','Kuro sąnaudos','TA iki'])"
   ]
  },
  {
   "cell_type": "code",
   "execution_count": 117,
   "id": "b4b24f37",
   "metadata": {},
   "outputs": [
    {
     "data": {
      "text/html": [
       "<div>\n",
       "<style scoped>\n",
       "    .dataframe tbody tr th:only-of-type {\n",
       "        vertical-align: middle;\n",
       "    }\n",
       "\n",
       "    .dataframe tbody tr th {\n",
       "        vertical-align: top;\n",
       "    }\n",
       "\n",
       "    .dataframe thead th {\n",
       "        text-align: right;\n",
       "    }\n",
       "</style>\n",
       "<table border=\"1\" class=\"dataframe\">\n",
       "  <thead>\n",
       "    <tr style=\"text-align: right;\">\n",
       "      <th></th>\n",
       "      <th>Kaina</th>\n",
       "      <th>Markė</th>\n",
       "      <th>Modelis</th>\n",
       "      <th>Metai</th>\n",
       "      <th>Rida</th>\n",
       "      <th>Darbinis tūris, l.</th>\n",
       "      <th>Galia, kW</th>\n",
       "      <th>Kuro tipas</th>\n",
       "      <th>Pavarų dėžė</th>\n",
       "      <th>Kėbulo tipas</th>\n",
       "      <th>Durų skaičius</th>\n",
       "      <th>CO2 emisija, g/km</th>\n",
       "      <th>Defektai</th>\n",
       "      <th>Vairo padėtis</th>\n",
       "      <th>Kuro sąnaudos</th>\n",
       "      <th>TA iki</th>\n",
       "    </tr>\n",
       "  </thead>\n",
       "  <tbody>\n",
       "    <tr>\n",
       "      <th>0</th>\n",
       "      <td>18 500 €</td>\n",
       "      <td>Volvo</td>\n",
       "      <td>V60</td>\n",
       "      <td>2018\\n-04</td>\n",
       "      <td>107 125 km</td>\n",
       "      <td>2.00</td>\n",
       "      <td>110 kW (150 AG)</td>\n",
       "      <td>Dyzelinas</td>\n",
       "      <td>Mechaninė</td>\n",
       "      <td>Universalas</td>\n",
       "      <td>4/5</td>\n",
       "      <td>108.00</td>\n",
       "      <td>Be defektų</td>\n",
       "      <td>Kairėje</td>\n",
       "      <td>6l/100km</td>\n",
       "      <td>2025-02-15</td>\n",
       "    </tr>\n",
       "    <tr>\n",
       "      <th>1</th>\n",
       "      <td>2 000 €</td>\n",
       "      <td>Volkswagen</td>\n",
       "      <td>Golf</td>\n",
       "      <td>2005\\n-05</td>\n",
       "      <td>295 000 km</td>\n",
       "      <td>2.00</td>\n",
       "      <td>103 kW (140 AG)</td>\n",
       "      <td>Dyzelinas</td>\n",
       "      <td>Mechaninė</td>\n",
       "      <td>Hečbekas</td>\n",
       "      <td>2/3</td>\n",
       "      <td>NaN</td>\n",
       "      <td>Be defektų</td>\n",
       "      <td>Kairėje</td>\n",
       "      <td>5l/100km</td>\n",
       "      <td>2025-04-28</td>\n",
       "    </tr>\n",
       "    <tr>\n",
       "      <th>2</th>\n",
       "      <td>8 200 €</td>\n",
       "      <td>Mercedes Benz</td>\n",
       "      <td>CLK320</td>\n",
       "      <td>2005</td>\n",
       "      <td>266 700 km</td>\n",
       "      <td>3.20</td>\n",
       "      <td>160 kW (218 AG)</td>\n",
       "      <td>Benzinas</td>\n",
       "      <td>Automatinė</td>\n",
       "      <td>Kabrioletas/Roadster</td>\n",
       "      <td>2/3</td>\n",
       "      <td>NaN</td>\n",
       "      <td>Be defektų</td>\n",
       "      <td>Kairėje</td>\n",
       "      <td>NaN</td>\n",
       "      <td>NaN</td>\n",
       "    </tr>\n",
       "  </tbody>\n",
       "</table>\n",
       "</div>"
      ],
      "text/plain": [
       "      Kaina          Markė Modelis      Metai        Rida  Darbinis tūris, l.  \\\n",
       "0  18 500 €          Volvo     V60  2018\\n-04  107 125 km                2.00   \n",
       "1   2 000 €     Volkswagen    Golf  2005\\n-05  295 000 km                2.00   \n",
       "2   8 200 €  Mercedes Benz  CLK320       2005  266 700 km                3.20   \n",
       "\n",
       "         Galia, kW Kuro tipas Pavarų dėžė          Kėbulo tipas Durų skaičius  \\\n",
       "0  110 kW (150 AG)  Dyzelinas   Mechaninė           Universalas           4/5   \n",
       "1  103 kW (140 AG)  Dyzelinas   Mechaninė              Hečbekas           2/3   \n",
       "2  160 kW (218 AG)   Benzinas  Automatinė  Kabrioletas/Roadster           2/3   \n",
       "\n",
       "   CO2 emisija, g/km    Defektai Vairo padėtis Kuro sąnaudos      TA iki  \n",
       "0             108.00  Be defektų       Kairėje      6l/100km  2025-02-15  \n",
       "1                NaN  Be defektų       Kairėje      5l/100km  2025-04-28  \n",
       "2                NaN  Be defektų       Kairėje           NaN         NaN  "
      ]
     },
     "execution_count": 117,
     "metadata": {},
     "output_type": "execute_result"
    }
   ],
   "source": [
    "autobilis_df.head(3)"
   ]
  },
  {
   "cell_type": "code",
   "execution_count": 118,
   "id": "0b627bfb",
   "metadata": {},
   "outputs": [],
   "source": [
    "# Išvalau \"€\" simbolį ir tarpus \"Kaina\" stulpelyje\n",
    "autobilis_df[\"Kaina\"] = autobilis_df[\"Kaina\"].str.replace(r\"\\s\", \"\", regex=True).str.replace(\"€\", \"\")"
   ]
  },
  {
   "cell_type": "code",
   "execution_count": 119,
   "id": "652b3d25",
   "metadata": {},
   "outputs": [],
   "source": [
    "# Paimu tik kw galios reikšmes\n",
    "autobilis_df['Galia, kW'] = autobilis_df['Galia, kW'].str.extract('(\\d+) kW')"
   ]
  },
  {
   "cell_type": "code",
   "execution_count": 120,
   "id": "6e15b8f1",
   "metadata": {},
   "outputs": [],
   "source": [
    "# Paimu tik metus iš stulpelio \"Metai\"\n",
    "autobilis_df['Metai'] = autobilis_df['Metai'].str.extract(r'(\\d{4})')"
   ]
  },
  {
   "cell_type": "code",
   "execution_count": 121,
   "id": "946885b2",
   "metadata": {},
   "outputs": [],
   "source": [
    "# Sutvarkau stulpelį \"Rida\", panaikindamas tarpą ir 'km'\n",
    "autobilis_df['Rida'] = autobilis_df['Rida'].str.replace(' km', '').str.replace(' ', '')"
   ]
  },
  {
   "cell_type": "code",
   "execution_count": 122,
   "id": "d0cefe18",
   "metadata": {},
   "outputs": [],
   "source": [
    "#Ištrinu nereikalingus stulpelius\n",
    "autobilis_df = autobilis_df.drop(columns=['TA iki','CO2 emisija, g/km','Durų skaičius','Vairo padėtis'])"
   ]
  },
  {
   "cell_type": "code",
   "execution_count": 123,
   "id": "de213090",
   "metadata": {
    "scrolled": false
   },
   "outputs": [],
   "source": [
    "#Pakeičiu stulpelių išsidėstymą pagal kitą dataset \n",
    "autobilis_df = autobilis_df.loc[:,['Kaina','Markė','Modelis','Metai','Kuro tipas','Kėbulo tipas','Pavarų dėžė','Rida','Darbinis tūris, l.','Galia, kW']]"
   ]
  },
  {
   "cell_type": "code",
   "execution_count": 124,
   "id": "4e50e266",
   "metadata": {
    "scrolled": true
   },
   "outputs": [
    {
     "data": {
      "text/html": [
       "<div>\n",
       "<style scoped>\n",
       "    .dataframe tbody tr th:only-of-type {\n",
       "        vertical-align: middle;\n",
       "    }\n",
       "\n",
       "    .dataframe tbody tr th {\n",
       "        vertical-align: top;\n",
       "    }\n",
       "\n",
       "    .dataframe thead th {\n",
       "        text-align: right;\n",
       "    }\n",
       "</style>\n",
       "<table border=\"1\" class=\"dataframe\">\n",
       "  <thead>\n",
       "    <tr style=\"text-align: right;\">\n",
       "      <th></th>\n",
       "      <th>Kaina</th>\n",
       "      <th>Markė</th>\n",
       "      <th>Modelis</th>\n",
       "      <th>Metai</th>\n",
       "      <th>Kuro tipas</th>\n",
       "      <th>Kėbulo tipas</th>\n",
       "      <th>Pavarų dėžė</th>\n",
       "      <th>Rida</th>\n",
       "      <th>Darbinis tūris, l.</th>\n",
       "      <th>Galia, kW</th>\n",
       "    </tr>\n",
       "  </thead>\n",
       "  <tbody>\n",
       "    <tr>\n",
       "      <th>0</th>\n",
       "      <td>18500</td>\n",
       "      <td>Volvo</td>\n",
       "      <td>V60</td>\n",
       "      <td>2018</td>\n",
       "      <td>Dyzelinas</td>\n",
       "      <td>Universalas</td>\n",
       "      <td>Mechaninė</td>\n",
       "      <td>107125</td>\n",
       "      <td>2.00</td>\n",
       "      <td>110</td>\n",
       "    </tr>\n",
       "    <tr>\n",
       "      <th>1</th>\n",
       "      <td>2000</td>\n",
       "      <td>Volkswagen</td>\n",
       "      <td>Golf</td>\n",
       "      <td>2005</td>\n",
       "      <td>Dyzelinas</td>\n",
       "      <td>Hečbekas</td>\n",
       "      <td>Mechaninė</td>\n",
       "      <td>295000</td>\n",
       "      <td>2.00</td>\n",
       "      <td>103</td>\n",
       "    </tr>\n",
       "    <tr>\n",
       "      <th>2</th>\n",
       "      <td>8200</td>\n",
       "      <td>Mercedes Benz</td>\n",
       "      <td>CLK320</td>\n",
       "      <td>2005</td>\n",
       "      <td>Benzinas</td>\n",
       "      <td>Kabrioletas/Roadster</td>\n",
       "      <td>Automatinė</td>\n",
       "      <td>266700</td>\n",
       "      <td>3.20</td>\n",
       "      <td>160</td>\n",
       "    </tr>\n",
       "  </tbody>\n",
       "</table>\n",
       "</div>"
      ],
      "text/plain": [
       "   Kaina          Markė Modelis Metai Kuro tipas          Kėbulo tipas  \\\n",
       "0  18500          Volvo     V60  2018  Dyzelinas           Universalas   \n",
       "1   2000     Volkswagen    Golf  2005  Dyzelinas              Hečbekas   \n",
       "2   8200  Mercedes Benz  CLK320  2005   Benzinas  Kabrioletas/Roadster   \n",
       "\n",
       "  Pavarų dėžė    Rida  Darbinis tūris, l. Galia, kW  \n",
       "0   Mechaninė  107125                2.00       110  \n",
       "1   Mechaninė  295000                2.00       103  \n",
       "2  Automatinė  266700                3.20       160  "
      ]
     },
     "execution_count": 124,
     "metadata": {},
     "output_type": "execute_result"
    }
   ],
   "source": [
    "autobilis_df.head(3)"
   ]
  },
  {
   "cell_type": "code",
   "execution_count": 125,
   "id": "f5677dc7",
   "metadata": {
    "scrolled": true
   },
   "outputs": [
    {
     "name": "stdout",
     "output_type": "stream",
     "text": [
      "<class 'pandas.core.frame.DataFrame'>\n",
      "RangeIndex: 3199 entries, 0 to 3198\n",
      "Data columns (total 10 columns):\n",
      " #   Column              Non-Null Count  Dtype  \n",
      "---  ------              --------------  -----  \n",
      " 0   Kaina               3199 non-null   object \n",
      " 1   Markė               3199 non-null   object \n",
      " 2   Modelis             3198 non-null   object \n",
      " 3   Metai               3162 non-null   object \n",
      " 4   Kuro tipas          3137 non-null   object \n",
      " 5   Kėbulo tipas        3135 non-null   object \n",
      " 6   Pavarų dėžė         3162 non-null   object \n",
      " 7   Rida                2888 non-null   object \n",
      " 8   Darbinis tūris, l.  3050 non-null   float64\n",
      " 9   Galia, kW           2996 non-null   object \n",
      "dtypes: float64(1), object(9)\n",
      "memory usage: 250.0+ KB\n"
     ]
    }
   ],
   "source": [
    "autobilis_df.info()"
   ]
  },
  {
   "cell_type": "code",
   "execution_count": 126,
   "id": "3abae09c",
   "metadata": {
    "scrolled": true
   },
   "outputs": [
    {
     "data": {
      "text/html": [
       "<div>\n",
       "<style scoped>\n",
       "    .dataframe tbody tr th:only-of-type {\n",
       "        vertical-align: middle;\n",
       "    }\n",
       "\n",
       "    .dataframe tbody tr th {\n",
       "        vertical-align: top;\n",
       "    }\n",
       "\n",
       "    .dataframe thead th {\n",
       "        text-align: right;\n",
       "    }\n",
       "</style>\n",
       "<table border=\"1\" class=\"dataframe\">\n",
       "  <thead>\n",
       "    <tr style=\"text-align: right;\">\n",
       "      <th></th>\n",
       "      <th>Darbinis tūris, l.</th>\n",
       "    </tr>\n",
       "  </thead>\n",
       "  <tbody>\n",
       "    <tr>\n",
       "      <th>count</th>\n",
       "      <td>3050.00</td>\n",
       "    </tr>\n",
       "    <tr>\n",
       "      <th>mean</th>\n",
       "      <td>2.06</td>\n",
       "    </tr>\n",
       "    <tr>\n",
       "      <th>std</th>\n",
       "      <td>0.77</td>\n",
       "    </tr>\n",
       "    <tr>\n",
       "      <th>min</th>\n",
       "      <td>0.50</td>\n",
       "    </tr>\n",
       "    <tr>\n",
       "      <th>25%</th>\n",
       "      <td>1.60</td>\n",
       "    </tr>\n",
       "    <tr>\n",
       "      <th>50%</th>\n",
       "      <td>2.00</td>\n",
       "    </tr>\n",
       "    <tr>\n",
       "      <th>75%</th>\n",
       "      <td>2.20</td>\n",
       "    </tr>\n",
       "    <tr>\n",
       "      <th>max</th>\n",
       "      <td>7.00</td>\n",
       "    </tr>\n",
       "  </tbody>\n",
       "</table>\n",
       "</div>"
      ],
      "text/plain": [
       "       Darbinis tūris, l.\n",
       "count             3050.00\n",
       "mean                 2.06\n",
       "std                  0.77\n",
       "min                  0.50\n",
       "25%                  1.60\n",
       "50%                  2.00\n",
       "75%                  2.20\n",
       "max                  7.00"
      ]
     },
     "execution_count": 126,
     "metadata": {},
     "output_type": "execute_result"
    }
   ],
   "source": [
    "autobilis_df.describe()"
   ]
  },
  {
   "cell_type": "markdown",
   "id": "6e27a9d3",
   "metadata": {},
   "source": [
    "________________________________________________________________________"
   ]
  },
  {
   "cell_type": "markdown",
   "id": "76f516e9",
   "metadata": {},
   "source": [
    "## AUTOPLIUS duomenų tvarkymas"
   ]
  },
  {
   "cell_type": "code",
   "execution_count": 127,
   "id": "fc67bcbe",
   "metadata": {},
   "outputs": [],
   "source": [
    "#Įkeliamas scrapintų duomenų rinkinys\n",
    "autoplius_df = pd.read_csv('autoplius_car_info.csv').iloc[:, 1:]"
   ]
  },
  {
   "cell_type": "code",
   "execution_count": 128,
   "id": "bd82402b",
   "metadata": {
    "scrolled": true
   },
   "outputs": [
    {
     "data": {
      "text/html": [
       "<div>\n",
       "<style scoped>\n",
       "    .dataframe tbody tr th:only-of-type {\n",
       "        vertical-align: middle;\n",
       "    }\n",
       "\n",
       "    .dataframe tbody tr th {\n",
       "        vertical-align: top;\n",
       "    }\n",
       "\n",
       "    .dataframe thead th {\n",
       "        text-align: right;\n",
       "    }\n",
       "</style>\n",
       "<table border=\"1\" class=\"dataframe\">\n",
       "  <thead>\n",
       "    <tr style=\"text-align: right;\">\n",
       "      <th></th>\n",
       "      <th>Kaina</th>\n",
       "      <th>Markė</th>\n",
       "      <th>Modelis</th>\n",
       "      <th>Metai</th>\n",
       "      <th>Kuro tipas</th>\n",
       "      <th>Kėbulo tipas</th>\n",
       "      <th>Pavarų dėžė</th>\n",
       "      <th>Variklis</th>\n",
       "      <th>Rida</th>\n",
       "    </tr>\n",
       "  </thead>\n",
       "  <tbody>\n",
       "    <tr>\n",
       "      <th>0</th>\n",
       "      <td>14 399 €</td>\n",
       "      <td>Renault</td>\n",
       "      <td>Master</td>\n",
       "      <td>2015-07</td>\n",
       "      <td>Dyzelinas</td>\n",
       "      <td>Krovininis mikroautobusas</td>\n",
       "      <td>Mechaninė</td>\n",
       "      <td>2.3 l., 92 kW</td>\n",
       "      <td>149 452 km</td>\n",
       "    </tr>\n",
       "    <tr>\n",
       "      <th>1</th>\n",
       "      <td>11 100 €</td>\n",
       "      <td>Mercedes-Benz</td>\n",
       "      <td>ML350</td>\n",
       "      <td>2007-01</td>\n",
       "      <td>Benzinas</td>\n",
       "      <td>Visureigis</td>\n",
       "      <td>Automatinė</td>\n",
       "      <td>3.5 l., 200 kW</td>\n",
       "      <td>177 735 km</td>\n",
       "    </tr>\n",
       "    <tr>\n",
       "      <th>2</th>\n",
       "      <td>15 990 €</td>\n",
       "      <td>Volkswagen</td>\n",
       "      <td>Passat</td>\n",
       "      <td>2017-09</td>\n",
       "      <td>Dyzelinas</td>\n",
       "      <td>Sedanas</td>\n",
       "      <td>Automatinė</td>\n",
       "      <td>1.6 l., 88 kW</td>\n",
       "      <td>171 677 km</td>\n",
       "    </tr>\n",
       "  </tbody>\n",
       "</table>\n",
       "</div>"
      ],
      "text/plain": [
       "      Kaina          Markė Modelis    Metai Kuro tipas  \\\n",
       "0  14 399 €        Renault  Master  2015-07  Dyzelinas   \n",
       "1  11 100 €  Mercedes-Benz   ML350  2007-01   Benzinas   \n",
       "2  15 990 €     Volkswagen  Passat  2017-09  Dyzelinas   \n",
       "\n",
       "                Kėbulo tipas Pavarų dėžė        Variklis        Rida  \n",
       "0  Krovininis mikroautobusas   Mechaninė   2.3 l., 92 kW  149 452 km  \n",
       "1                 Visureigis  Automatinė  3.5 l., 200 kW  177 735 km  \n",
       "2                    Sedanas  Automatinė   1.6 l., 88 kW  171 677 km  "
      ]
     },
     "execution_count": 128,
     "metadata": {},
     "output_type": "execute_result"
    }
   ],
   "source": [
    "autoplius_df.head(3)"
   ]
  },
  {
   "cell_type": "code",
   "execution_count": 129,
   "id": "fc55a50d",
   "metadata": {},
   "outputs": [],
   "source": [
    "# Stulpelį \"Variklis\" padalinam į du atskirus stulpelius 'Darbinis tūris, l.' ir 'Galia, kW'\n",
    "autoplius_df['Darbinis tūris, l.'] = autoplius_df['Variklis'].str.extract('(\\d+.\\d+) l.')\n",
    "autoplius_df['Galia, kW'] = autoplius_df['Variklis'].str.extract('(\\d+) kW')"
   ]
  },
  {
   "cell_type": "code",
   "execution_count": 130,
   "id": "842173c5",
   "metadata": {},
   "outputs": [],
   "source": [
    "# Ištrinam nereikalingą stulpelį \"Variklis\"\n",
    "autoplius_df = autoplius_df.drop(columns=['Variklis'])"
   ]
  },
  {
   "cell_type": "code",
   "execution_count": 131,
   "id": "1e906070",
   "metadata": {},
   "outputs": [],
   "source": [
    "# Išvalau \"€\" simbolį ir tarpus \"Kaina\" stulpelyje\n",
    "autoplius_df['Kaina'] = autoplius_df['Kaina'].apply(lambda x: int(x.split('€')[0].replace(' ', '').strip()))"
   ]
  },
  {
   "cell_type": "code",
   "execution_count": 132,
   "id": "20500d47",
   "metadata": {},
   "outputs": [],
   "source": [
    "# Ištrinu mėnesius iš stulpelio \"Metai\"\n",
    "autoplius_df['Metai'] = autoplius_df['Metai'].str.extract(r'(\\d{4})')"
   ]
  },
  {
   "cell_type": "code",
   "execution_count": 133,
   "id": "325aabae",
   "metadata": {},
   "outputs": [],
   "source": [
    "# Sutvarkau stulpelį \"Rida\", panaikindamas tarpą ir 'km'\n",
    "autoplius_df['Rida'] = autoplius_df['Rida'].str.replace(' km', '').str.replace(' ', '')"
   ]
  },
  {
   "cell_type": "code",
   "execution_count": 134,
   "id": "cc7704a3",
   "metadata": {},
   "outputs": [
    {
     "data": {
      "text/html": [
       "<div>\n",
       "<style scoped>\n",
       "    .dataframe tbody tr th:only-of-type {\n",
       "        vertical-align: middle;\n",
       "    }\n",
       "\n",
       "    .dataframe tbody tr th {\n",
       "        vertical-align: top;\n",
       "    }\n",
       "\n",
       "    .dataframe thead th {\n",
       "        text-align: right;\n",
       "    }\n",
       "</style>\n",
       "<table border=\"1\" class=\"dataframe\">\n",
       "  <thead>\n",
       "    <tr style=\"text-align: right;\">\n",
       "      <th></th>\n",
       "      <th>Kaina</th>\n",
       "      <th>Markė</th>\n",
       "      <th>Modelis</th>\n",
       "      <th>Metai</th>\n",
       "      <th>Kuro tipas</th>\n",
       "      <th>Kėbulo tipas</th>\n",
       "      <th>Pavarų dėžė</th>\n",
       "      <th>Rida</th>\n",
       "      <th>Darbinis tūris, l.</th>\n",
       "      <th>Galia, kW</th>\n",
       "    </tr>\n",
       "  </thead>\n",
       "  <tbody>\n",
       "    <tr>\n",
       "      <th>0</th>\n",
       "      <td>14399</td>\n",
       "      <td>Renault</td>\n",
       "      <td>Master</td>\n",
       "      <td>2015</td>\n",
       "      <td>Dyzelinas</td>\n",
       "      <td>Krovininis mikroautobusas</td>\n",
       "      <td>Mechaninė</td>\n",
       "      <td>149452</td>\n",
       "      <td>2.3</td>\n",
       "      <td>92</td>\n",
       "    </tr>\n",
       "    <tr>\n",
       "      <th>1</th>\n",
       "      <td>11100</td>\n",
       "      <td>Mercedes-Benz</td>\n",
       "      <td>ML350</td>\n",
       "      <td>2007</td>\n",
       "      <td>Benzinas</td>\n",
       "      <td>Visureigis</td>\n",
       "      <td>Automatinė</td>\n",
       "      <td>177735</td>\n",
       "      <td>3.5</td>\n",
       "      <td>200</td>\n",
       "    </tr>\n",
       "    <tr>\n",
       "      <th>2</th>\n",
       "      <td>15990</td>\n",
       "      <td>Volkswagen</td>\n",
       "      <td>Passat</td>\n",
       "      <td>2017</td>\n",
       "      <td>Dyzelinas</td>\n",
       "      <td>Sedanas</td>\n",
       "      <td>Automatinė</td>\n",
       "      <td>171677</td>\n",
       "      <td>1.6</td>\n",
       "      <td>88</td>\n",
       "    </tr>\n",
       "  </tbody>\n",
       "</table>\n",
       "</div>"
      ],
      "text/plain": [
       "   Kaina          Markė Modelis Metai Kuro tipas               Kėbulo tipas  \\\n",
       "0  14399        Renault  Master  2015  Dyzelinas  Krovininis mikroautobusas   \n",
       "1  11100  Mercedes-Benz   ML350  2007   Benzinas                 Visureigis   \n",
       "2  15990     Volkswagen  Passat  2017  Dyzelinas                    Sedanas   \n",
       "\n",
       "  Pavarų dėžė    Rida Darbinis tūris, l. Galia, kW  \n",
       "0   Mechaninė  149452                2.3        92  \n",
       "1  Automatinė  177735                3.5       200  \n",
       "2  Automatinė  171677                1.6        88  "
      ]
     },
     "execution_count": 134,
     "metadata": {},
     "output_type": "execute_result"
    }
   ],
   "source": [
    "autoplius_df.head(3)"
   ]
  },
  {
   "cell_type": "code",
   "execution_count": 135,
   "id": "33dec750",
   "metadata": {
    "scrolled": false
   },
   "outputs": [
    {
     "name": "stdout",
     "output_type": "stream",
     "text": [
      "<class 'pandas.core.frame.DataFrame'>\n",
      "RangeIndex: 23088 entries, 0 to 23087\n",
      "Data columns (total 10 columns):\n",
      " #   Column              Non-Null Count  Dtype \n",
      "---  ------              --------------  ----- \n",
      " 0   Kaina               23088 non-null  int64 \n",
      " 1   Markė               23088 non-null  object\n",
      " 2   Modelis             23088 non-null  object\n",
      " 3   Metai               23088 non-null  object\n",
      " 4   Kuro tipas          23088 non-null  object\n",
      " 5   Kėbulo tipas        23088 non-null  object\n",
      " 6   Pavarų dėžė         23088 non-null  object\n",
      " 7   Rida                23088 non-null  object\n",
      " 8   Darbinis tūris, l.  22366 non-null  object\n",
      " 9   Galia, kW           22555 non-null  object\n",
      "dtypes: int64(1), object(9)\n",
      "memory usage: 1.8+ MB\n"
     ]
    }
   ],
   "source": [
    "autoplius_df.info()"
   ]
  },
  {
   "cell_type": "code",
   "execution_count": 136,
   "id": "f178e2ef",
   "metadata": {
    "scrolled": true
   },
   "outputs": [
    {
     "data": {
      "text/html": [
       "<div>\n",
       "<style scoped>\n",
       "    .dataframe tbody tr th:only-of-type {\n",
       "        vertical-align: middle;\n",
       "    }\n",
       "\n",
       "    .dataframe tbody tr th {\n",
       "        vertical-align: top;\n",
       "    }\n",
       "\n",
       "    .dataframe thead th {\n",
       "        text-align: right;\n",
       "    }\n",
       "</style>\n",
       "<table border=\"1\" class=\"dataframe\">\n",
       "  <thead>\n",
       "    <tr style=\"text-align: right;\">\n",
       "      <th></th>\n",
       "      <th>Kaina</th>\n",
       "    </tr>\n",
       "  </thead>\n",
       "  <tbody>\n",
       "    <tr>\n",
       "      <th>count</th>\n",
       "      <td>23088.00</td>\n",
       "    </tr>\n",
       "    <tr>\n",
       "      <th>mean</th>\n",
       "      <td>23945.58</td>\n",
       "    </tr>\n",
       "    <tr>\n",
       "      <th>std</th>\n",
       "      <td>7743.77</td>\n",
       "    </tr>\n",
       "    <tr>\n",
       "      <th>min</th>\n",
       "      <td>100.00</td>\n",
       "    </tr>\n",
       "    <tr>\n",
       "      <th>25%</th>\n",
       "      <td>24900.00</td>\n",
       "    </tr>\n",
       "    <tr>\n",
       "      <th>50%</th>\n",
       "      <td>25400.00</td>\n",
       "    </tr>\n",
       "    <tr>\n",
       "      <th>75%</th>\n",
       "      <td>29500.00</td>\n",
       "    </tr>\n",
       "    <tr>\n",
       "      <th>max</th>\n",
       "      <td>216590.00</td>\n",
       "    </tr>\n",
       "  </tbody>\n",
       "</table>\n",
       "</div>"
      ],
      "text/plain": [
       "          Kaina\n",
       "count  23088.00\n",
       "mean   23945.58\n",
       "std     7743.77\n",
       "min      100.00\n",
       "25%    24900.00\n",
       "50%    25400.00\n",
       "75%    29500.00\n",
       "max   216590.00"
      ]
     },
     "execution_count": 136,
     "metadata": {},
     "output_type": "execute_result"
    }
   ],
   "source": [
    "autoplius_df.describe()"
   ]
  },
  {
   "cell_type": "markdown",
   "id": "0c6bd7f3",
   "metadata": {},
   "source": [
    "____________________________________________________________________________"
   ]
  },
  {
   "cell_type": "markdown",
   "id": "a4b6864b",
   "metadata": {},
   "source": [
    "## Sujungtų duomenų tvarkymas"
   ]
  },
  {
   "cell_type": "code",
   "execution_count": 137,
   "id": "cf714833",
   "metadata": {},
   "outputs": [],
   "source": [
    "# Sujungiam tris duomenų rinkinius\n",
    "df = pd.concat([autogidas_df, autobilis_df, autoplius_df], ignore_index=True)"
   ]
  },
  {
   "cell_type": "code",
   "execution_count": 138,
   "id": "b660568e",
   "metadata": {},
   "outputs": [],
   "source": [
    "# Pervadinam stulpelius\n",
    "df.rename(columns={'Darbinis tūris, l.': 'Darbinis tūris', 'Galia, kW': 'Galia'}, inplace=True)"
   ]
  },
  {
   "cell_type": "code",
   "execution_count": 139,
   "id": "7665b8ff",
   "metadata": {},
   "outputs": [
    {
     "name": "stdout",
     "output_type": "stream",
     "text": [
      "<class 'pandas.core.frame.DataFrame'>\n",
      "RangeIndex: 35504 entries, 0 to 35503\n",
      "Data columns (total 10 columns):\n",
      " #   Column          Non-Null Count  Dtype \n",
      "---  ------          --------------  ----- \n",
      " 0   Kaina           35504 non-null  object\n",
      " 1   Markė           35501 non-null  object\n",
      " 2   Modelis         35500 non-null  object\n",
      " 3   Metai           35463 non-null  object\n",
      " 4   Kuro tipas      35439 non-null  object\n",
      " 5   Kėbulo tipas    35437 non-null  object\n",
      " 6   Pavarų dėžė     35464 non-null  object\n",
      " 7   Rida            32974 non-null  object\n",
      " 8   Darbinis tūris  34437 non-null  object\n",
      " 9   Galia           33825 non-null  object\n",
      "dtypes: object(10)\n",
      "memory usage: 2.7+ MB\n"
     ]
    }
   ],
   "source": [
    "df.info()"
   ]
  },
  {
   "cell_type": "code",
   "execution_count": 140,
   "id": "220018c0",
   "metadata": {
    "scrolled": false
   },
   "outputs": [
    {
     "data": {
      "text/html": [
       "<div>\n",
       "<style scoped>\n",
       "    .dataframe tbody tr th:only-of-type {\n",
       "        vertical-align: middle;\n",
       "    }\n",
       "\n",
       "    .dataframe tbody tr th {\n",
       "        vertical-align: top;\n",
       "    }\n",
       "\n",
       "    .dataframe thead th {\n",
       "        text-align: right;\n",
       "    }\n",
       "</style>\n",
       "<table border=\"1\" class=\"dataframe\">\n",
       "  <thead>\n",
       "    <tr style=\"text-align: right;\">\n",
       "      <th></th>\n",
       "      <th>Kaina</th>\n",
       "      <th>Markė</th>\n",
       "      <th>Modelis</th>\n",
       "      <th>Metai</th>\n",
       "      <th>Kuro tipas</th>\n",
       "      <th>Kėbulo tipas</th>\n",
       "      <th>Pavarų dėžė</th>\n",
       "      <th>Rida</th>\n",
       "      <th>Darbinis tūris</th>\n",
       "      <th>Galia</th>\n",
       "    </tr>\n",
       "  </thead>\n",
       "  <tbody>\n",
       "    <tr>\n",
       "      <th>count</th>\n",
       "      <td>35504</td>\n",
       "      <td>35501</td>\n",
       "      <td>35500</td>\n",
       "      <td>35463</td>\n",
       "      <td>35439</td>\n",
       "      <td>35437</td>\n",
       "      <td>35464</td>\n",
       "      <td>32974</td>\n",
       "      <td>34437</td>\n",
       "      <td>33825</td>\n",
       "    </tr>\n",
       "    <tr>\n",
       "      <th>unique</th>\n",
       "      <td>2300</td>\n",
       "      <td>82</td>\n",
       "      <td>1172</td>\n",
       "      <td>64</td>\n",
       "      <td>38</td>\n",
       "      <td>28</td>\n",
       "      <td>4</td>\n",
       "      <td>6063</td>\n",
       "      <td>125</td>\n",
       "      <td>309</td>\n",
       "    </tr>\n",
       "    <tr>\n",
       "      <th>top</th>\n",
       "      <td>24900</td>\n",
       "      <td>BMW</td>\n",
       "      <td>C-HR</td>\n",
       "      <td>2018</td>\n",
       "      <td>Dyzelinas</td>\n",
       "      <td>Visureigis</td>\n",
       "      <td>Automatinė</td>\n",
       "      <td>160000</td>\n",
       "      <td>2.0</td>\n",
       "      <td>110</td>\n",
       "    </tr>\n",
       "    <tr>\n",
       "      <th>freq</th>\n",
       "      <td>2932</td>\n",
       "      <td>4533</td>\n",
       "      <td>1407</td>\n",
       "      <td>4835</td>\n",
       "      <td>18683</td>\n",
       "      <td>12794</td>\n",
       "      <td>25862</td>\n",
       "      <td>608</td>\n",
       "      <td>11731</td>\n",
       "      <td>3915</td>\n",
       "    </tr>\n",
       "  </tbody>\n",
       "</table>\n",
       "</div>"
      ],
      "text/plain": [
       "        Kaina  Markė Modelis  Metai Kuro tipas Kėbulo tipas Pavarų dėžė  \\\n",
       "count   35504  35501   35500  35463      35439        35437       35464   \n",
       "unique   2300     82    1172     64         38           28           4   \n",
       "top     24900    BMW    C-HR   2018  Dyzelinas   Visureigis  Automatinė   \n",
       "freq     2932   4533    1407   4835      18683        12794       25862   \n",
       "\n",
       "          Rida Darbinis tūris  Galia  \n",
       "count    32974          34437  33825  \n",
       "unique    6063            125    309  \n",
       "top     160000            2.0    110  \n",
       "freq       608          11731   3915  "
      ]
     },
     "execution_count": 140,
     "metadata": {},
     "output_type": "execute_result"
    }
   ],
   "source": [
    "df.describe()"
   ]
  },
  {
   "cell_type": "code",
   "execution_count": 141,
   "id": "5d356c4d",
   "metadata": {},
   "outputs": [
    {
     "data": {
      "text/plain": [
       "19591"
      ]
     },
     "execution_count": 141,
     "metadata": {},
     "output_type": "execute_result"
    }
   ],
   "source": [
    "#Suskaičiuojam duplikatus\n",
    "df.duplicated().sum()"
   ]
  },
  {
   "cell_type": "code",
   "execution_count": 142,
   "id": "eebf55b2",
   "metadata": {},
   "outputs": [],
   "source": [
    "# Ištrinam duplikatus\n",
    "df = df.drop_duplicates()"
   ]
  },
  {
   "cell_type": "code",
   "execution_count": 143,
   "id": "61f5f1d6",
   "metadata": {},
   "outputs": [
    {
     "name": "stdout",
     "output_type": "stream",
     "text": [
      "4237\n"
     ]
    }
   ],
   "source": [
    "#Suskaičiuojam na reikšmes\n",
    "na_count = df.isna().sum().sum()\n",
    "print(na_count)"
   ]
  },
  {
   "cell_type": "code",
   "execution_count": 144,
   "id": "54979bc8",
   "metadata": {},
   "outputs": [],
   "source": [
    "#Ištrinam na reikšmes\n",
    "df = df.dropna(axis=0, how='any', subset=['Kaina','Markė','Metai','Kuro tipas','Kėbulo tipas','Pavarų dėžė','Rida','Darbinis tūris','Galia'])"
   ]
  },
  {
   "cell_type": "code",
   "execution_count": 145,
   "id": "702d3911",
   "metadata": {
    "scrolled": true
   },
   "outputs": [
    {
     "data": {
      "text/plain": [
       "Dyzelinas                     7656\n",
       "Benzinas                      3863\n",
       "Benzinas / elektra             354\n",
       "Benzinas/Dujos                 212\n",
       "Benzinas / dujos               155\n",
       "Benzinas/Elektra               126\n",
       "Benzinas + Elektra              31\n",
       "Dyzelinas/Elektra               18\n",
       "Dyzelinas / elektra             18\n",
       "Benzinas / Elektra              12\n",
       "Elektra                          8\n",
       "Dyzelinas + Elektra              6\n",
       "Benzinas / elektra / dujos       6\n",
       "Benzinas + Dujos (LPG)           4\n",
       "Benzinas/Gamtinės dujos          4\n",
       "Kita                             4\n",
       "Benzinas / Bioetanolis E85       1\n",
       "Dujos                            1\n",
       "Name: Kuro tipas, dtype: int64"
      ]
     },
     "execution_count": 145,
     "metadata": {},
     "output_type": "execute_result"
    }
   ],
   "source": [
    "df['Kuro tipas'].value_counts()"
   ]
  },
  {
   "cell_type": "code",
   "execution_count": 146,
   "id": "41134aa7",
   "metadata": {},
   "outputs": [],
   "source": [
    "#Sujungiam panašias reikšmes\n",
    "mapping = {\n",
    "    'Benzinas + Elektra': 'Benzinas/Elektra',\n",
    "    'Benzinas / Elektra': 'Benzinas/Elektra',\n",
    "    'Benzinas / elektra': 'Benzinas/Elektra',\n",
    "    'Benzinas/Elektra ': 'Benzinas/Elektra',\n",
    "    'Benzinas/Gamtinės dujos': 'Benzinas/Dujos',\n",
    "    'Benzinas + Dujos (LPG)': 'Benzinas/Dujos',\n",
    "    'Dyzelinas + Elektra': 'Dyzelinas/Elektra',\n",
    "    'Dyzelinas / elektra': 'Dyzelinas/Elektra',\n",
    "    'Elektra, 24 kWh': 'Elektra',\n",
    "    'Elektra, 40 kWh': 'Elektra',\n",
    "    'Elektra, 36 kWh': 'Elektra',\n",
    "    'Elektra, 31 kWh': 'Elektra',\n",
    "    'Elektra, 100 kWh': 'Elektra',\n",
    "    'Elektra, 75 kWh': 'Elektra',\n",
    "    'Elektra, 19 kWh': 'Elektra',\n",
    "    'Elektra, 39 kWh': 'Elektra',\n",
    "    'Elektra, 16 kWh': 'Elektra',\n",
    "    'Elektra, 81 kWh': 'Elektra',\n",
    "    'Elektra, 58 kWh': 'Elektra',\n",
    "    'Elektra, 82 kWh': 'Elektra',\n",
    "    'Elektra, 35 kWh': 'Elektra',\n",
    "    'Elektra, 95 kWh': 'Elektra',\n",
    "    'Elektra, 50 kWh': 'Elektra',\n",
    "    'Elektra, 22 kWh': 'Elektra',\n",
    "    'Benzinas / elektra, 17 kWh': 'Benzinas/Elektra ',\n",
    "    'Benzinas / dujos': 'Benzinas/Dujos',\n",
    "}\n",
    "\n",
    "df['Kuro tipas'] = df['Kuro tipas'].replace(mapping)"
   ]
  },
  {
   "cell_type": "code",
   "execution_count": 147,
   "id": "a3ac241f",
   "metadata": {},
   "outputs": [
    {
     "data": {
      "text/plain": [
       "Dyzelinas                     7656\n",
       "Benzinas                      3863\n",
       "Benzinas/Elektra               523\n",
       "Benzinas/Dujos                 375\n",
       "Dyzelinas/Elektra               42\n",
       "Elektra                          8\n",
       "Benzinas / elektra / dujos       6\n",
       "Kita                             4\n",
       "Dujos                            1\n",
       "Benzinas / Bioetanolis E85       1\n",
       "Name: Kuro tipas, dtype: int64"
      ]
     },
     "execution_count": 147,
     "metadata": {},
     "output_type": "execute_result"
    }
   ],
   "source": [
    "df['Kuro tipas'].value_counts()"
   ]
  },
  {
   "cell_type": "code",
   "execution_count": 148,
   "id": "db34408e",
   "metadata": {},
   "outputs": [],
   "source": [
    "#Ištrinam nereikalingas reikšmes\n",
    "df = df[~df['Kuro tipas'].isin(['Kita', 'Benzinas / Bioetanolis E85', 'Dujos','Etanolis','Дизель','Visureigis'])]"
   ]
  },
  {
   "cell_type": "code",
   "execution_count": 149,
   "id": "102d7fe1",
   "metadata": {
    "scrolled": true
   },
   "outputs": [
    {
     "data": {
      "text/plain": [
       "Universalas                  3128\n",
       "Visureigis                   2531\n",
       "Hečbekas                     2414\n",
       "Sedanas                      2106\n",
       "Vienatūris                   1165\n",
       "Krovininis mikroautobusas     187\n",
       "Keleivinis mikroautobusas     163\n",
       "Coupe                         138\n",
       "Kabrioletas                   115\n",
       "Komercinis                    108\n",
       "Kupė (Coupe)                  104\n",
       "Kupė/Sportas                   75\n",
       "Visureigis/SUV                 74\n",
       "Pikapas                        38\n",
       "Kombi mikroautobusas           24\n",
       "Komercinis auto(su būda)       22\n",
       "Kita                           20\n",
       "Kabrioletas/Roadster           18\n",
       "Limuzinas                      13\n",
       "Komercinis krovininis          13\n",
       "Minivenas                       5\n",
       "Komercinis keleivinis           4\n",
       "Kitas                           3\n",
       "Šaldytuvas                      2\n",
       "SUV                             2\n",
       "Savadarbis auto                 1\n",
       "Name: Kėbulo tipas, dtype: int64"
      ]
     },
     "execution_count": 149,
     "metadata": {},
     "output_type": "execute_result"
    }
   ],
   "source": [
    "df['Kėbulo tipas'].value_counts()"
   ]
  },
  {
   "cell_type": "code",
   "execution_count": 150,
   "id": "7413f9f5",
   "metadata": {},
   "outputs": [],
   "source": [
    "#Sujungiam panašias reikšmes\n",
    "mapping = {\n",
    "    'SUV': 'Visureigis',\n",
    "    'Visureigis/SUV': 'Visureigis',\n",
    "    'Komercinis auto(su būda)': 'Komercinis',\n",
    "    'Komercinis keleivinis': 'Komercinis',\n",
    "    'Komercinis krovininis': 'Komercinis',\n",
    "    'Coupe': 'Kupė/Sportas',\n",
    "    'Kitas': 'Kita',\n",
    "    'Kabrioletas': 'Kabrioletas/Roadster',\n",
    "}\n",
    "\n",
    "df['Kėbulo tipas'] = df['Kėbulo tipas'].replace(mapping)\n"
   ]
  },
  {
   "cell_type": "code",
   "execution_count": 151,
   "id": "32557c3a",
   "metadata": {},
   "outputs": [
    {
     "data": {
      "text/plain": [
       "Universalas                  3128\n",
       "Visureigis                   2607\n",
       "Hečbekas                     2414\n",
       "Sedanas                      2106\n",
       "Vienatūris                   1165\n",
       "Kupė/Sportas                  213\n",
       "Krovininis mikroautobusas     187\n",
       "Keleivinis mikroautobusas     163\n",
       "Komercinis                    147\n",
       "Kabrioletas/Roadster          133\n",
       "Kupė (Coupe)                  104\n",
       "Pikapas                        38\n",
       "Kombi mikroautobusas           24\n",
       "Kita                           23\n",
       "Limuzinas                      13\n",
       "Minivenas                       5\n",
       "Šaldytuvas                      2\n",
       "Savadarbis auto                 1\n",
       "Name: Kėbulo tipas, dtype: int64"
      ]
     },
     "execution_count": 151,
     "metadata": {},
     "output_type": "execute_result"
    }
   ],
   "source": [
    "df['Kėbulo tipas'].value_counts()"
   ]
  },
  {
   "cell_type": "code",
   "execution_count": 152,
   "id": "dc8e9fcf",
   "metadata": {},
   "outputs": [],
   "source": [
    "df = df[~df['Kėbulo tipas'].isin(['Savadarbis auto', 'Šaldytuvas', 'Mechaninė','Минивэн'])]"
   ]
  },
  {
   "cell_type": "code",
   "execution_count": 153,
   "id": "0cbdd83d",
   "metadata": {},
   "outputs": [
    {
     "data": {
      "text/plain": [
       "Automatinė    6373\n",
       "Mechaninė     6097\n",
       "Name: Pavarų dėžė, dtype: int64"
      ]
     },
     "execution_count": 153,
     "metadata": {},
     "output_type": "execute_result"
    }
   ],
   "source": [
    "df['Pavarų dėžė'].value_counts()"
   ]
  },
  {
   "cell_type": "code",
   "execution_count": 154,
   "id": "2afe6ff7",
   "metadata": {},
   "outputs": [],
   "source": [
    "df = df[~df['Pavarų dėžė'].isin(['Дизель','343 992 km','Автоматическая'])]"
   ]
  },
  {
   "cell_type": "code",
   "execution_count": 155,
   "id": "57437786",
   "metadata": {},
   "outputs": [
    {
     "data": {
      "text/plain": [
       "Automatinė    6373\n",
       "Mechaninė     6097\n",
       "Name: Pavarų dėžė, dtype: int64"
      ]
     },
     "execution_count": 155,
     "metadata": {},
     "output_type": "execute_result"
    }
   ],
   "source": [
    "df['Pavarų dėžė'].value_counts()"
   ]
  },
  {
   "cell_type": "code",
   "execution_count": 156,
   "id": "30a4240b",
   "metadata": {},
   "outputs": [
    {
     "data": {
      "text/html": [
       "<div>\n",
       "<style scoped>\n",
       "    .dataframe tbody tr th:only-of-type {\n",
       "        vertical-align: middle;\n",
       "    }\n",
       "\n",
       "    .dataframe tbody tr th {\n",
       "        vertical-align: top;\n",
       "    }\n",
       "\n",
       "    .dataframe thead th {\n",
       "        text-align: right;\n",
       "    }\n",
       "</style>\n",
       "<table border=\"1\" class=\"dataframe\">\n",
       "  <thead>\n",
       "    <tr style=\"text-align: right;\">\n",
       "      <th></th>\n",
       "      <th>Kaina</th>\n",
       "      <th>Markė</th>\n",
       "      <th>Modelis</th>\n",
       "      <th>Metai</th>\n",
       "      <th>Kuro tipas</th>\n",
       "      <th>Kėbulo tipas</th>\n",
       "      <th>Pavarų dėžė</th>\n",
       "      <th>Rida</th>\n",
       "      <th>Darbinis tūris</th>\n",
       "      <th>Galia</th>\n",
       "    </tr>\n",
       "  </thead>\n",
       "  <tbody>\n",
       "    <tr>\n",
       "      <th>0</th>\n",
       "      <td>8500</td>\n",
       "      <td>Hyundai</td>\n",
       "      <td>H-1</td>\n",
       "      <td>2011</td>\n",
       "      <td>Dyzelinas</td>\n",
       "      <td>Keleivinis mikroautobusas</td>\n",
       "      <td>Mechaninė</td>\n",
       "      <td>267000</td>\n",
       "      <td>2.5</td>\n",
       "      <td>125</td>\n",
       "    </tr>\n",
       "    <tr>\n",
       "      <th>2</th>\n",
       "      <td>2550</td>\n",
       "      <td>Skoda</td>\n",
       "      <td>Fabia</td>\n",
       "      <td>2008</td>\n",
       "      <td>Dyzelinas</td>\n",
       "      <td>Hečbekas</td>\n",
       "      <td>Mechaninė</td>\n",
       "      <td>234000</td>\n",
       "      <td>1.4</td>\n",
       "      <td>59</td>\n",
       "    </tr>\n",
       "    <tr>\n",
       "      <th>3</th>\n",
       "      <td>2950</td>\n",
       "      <td>Subaru</td>\n",
       "      <td>OUTBACK</td>\n",
       "      <td>2005</td>\n",
       "      <td>Benzinas/Dujos</td>\n",
       "      <td>Universalas</td>\n",
       "      <td>Automatinė</td>\n",
       "      <td>281356</td>\n",
       "      <td>2.5</td>\n",
       "      <td>121</td>\n",
       "    </tr>\n",
       "  </tbody>\n",
       "</table>\n",
       "</div>"
      ],
      "text/plain": [
       "  Kaina    Markė  Modelis Metai      Kuro tipas               Kėbulo tipas  \\\n",
       "0  8500  Hyundai      H-1  2011       Dyzelinas  Keleivinis mikroautobusas   \n",
       "2  2550    Skoda    Fabia  2008       Dyzelinas                   Hečbekas   \n",
       "3  2950   Subaru  OUTBACK  2005  Benzinas/Dujos                Universalas   \n",
       "\n",
       "  Pavarų dėžė    Rida Darbinis tūris Galia  \n",
       "0   Mechaninė  267000            2.5   125  \n",
       "2   Mechaninė  234000            1.4    59  \n",
       "3  Automatinė  281356            2.5   121  "
      ]
     },
     "execution_count": 156,
     "metadata": {},
     "output_type": "execute_result"
    }
   ],
   "source": [
    "df.head(3)"
   ]
  },
  {
   "cell_type": "code",
   "execution_count": 157,
   "id": "e386d61f",
   "metadata": {},
   "outputs": [],
   "source": [
    "# Išimam išskirtines reikšmes\n",
    "df = df[~df['Rida'].isin(['Panevėžys','Kretinga','Ukmergė','Palanga','Tauragė','Rokiškis','Kėdainiai','Trakai','Vilkaviškis','Pasvalys','Klaipėda','Jurbarkas','Marijampolė','Alytus','Šiauliai','Vilnius','4','Šilalė','Šalčininkai','Druskininkai','Darbinis tūris, l.','Kaunas','KazlųRūda','Anykščiai','Kelmė'])]"
   ]
  },
  {
   "cell_type": "code",
   "execution_count": 158,
   "id": "fe18722b",
   "metadata": {},
   "outputs": [],
   "source": [
    "# Išimam išskirtines reikšmes\n",
    "df = df[~df['Galia'].isin(['Galia, kW'])]"
   ]
  },
  {
   "cell_type": "code",
   "execution_count": 159,
   "id": "263902e6",
   "metadata": {},
   "outputs": [],
   "source": [
    "# Išimam išskirtines reikšmes\n",
    "df = df[~df['Rida'].isin(['Darbinis tūris, l.'])]"
   ]
  },
  {
   "cell_type": "code",
   "execution_count": 160,
   "id": "dc6fe076",
   "metadata": {},
   "outputs": [],
   "source": [
    "# Pakeičiam duomenų tipus\n",
    "df['Kaina'] = df['Kaina'].astype(float)\n",
    "df['Metai'] = df['Metai'].astype(float)\n",
    "df['Rida'] = df['Rida'].astype(float)\n",
    "df['Galia'] = df['Galia'].astype(float)\n",
    "df['Darbinis tūris'] = df['Darbinis tūris'].astype(float)\n",
    "#df['Kaina'] = df['Kaina'].astype(pd.Int64Dtype())"
   ]
  },
  {
   "cell_type": "code",
   "execution_count": 161,
   "id": "b93e4be0",
   "metadata": {
    "scrolled": true
   },
   "outputs": [
    {
     "data": {
      "text/plain": [
       "Volkswagen       1578\n",
       "BMW              1513\n",
       "Audi             1186\n",
       "Toyota            918\n",
       "Opel              791\n",
       "Ford              668\n",
       "Volvo             663\n",
       "Mercedes-Benz     640\n",
       "Skoda             499\n",
       "Peugeot           366\n",
       "Citroen           341\n",
       "Nissan            335\n",
       "Renault           298\n",
       "Honda             270\n",
       "Kia               225\n",
       "Hyundai           217\n",
       "Mazda             208\n",
       "Mercedes Benz     188\n",
       "Subaru            146\n",
       "Seat              137\n",
       "Lexus             129\n",
       "Mitsubishi        117\n",
       "Chevrolet          91\n",
       "Fiat               88\n",
       "Porsche            88\n",
       "Chrysler           80\n",
       "Land Rover         72\n",
       "Jeep               64\n",
       "Jaguar             53\n",
       "Dodge              47\n",
       "Suzuki             45\n",
       "Saab               43\n",
       "Dacia              37\n",
       "Mini               34\n",
       "Land               25\n",
       "MINI               24\n",
       "Alfa Romeo         19\n",
       "Infiniti           17\n",
       "Cadillac           15\n",
       "SEAT               14\n",
       "SsangYong          11\n",
       "Alfa               10\n",
       "Iveco               9\n",
       "Bentley             8\n",
       "Lincoln             8\n",
       "Smart               7\n",
       "Lancia              7\n",
       "Buick               6\n",
       "Maserati            5\n",
       "Daihatsu            4\n",
       "Lada                4\n",
       "Isuzu               4\n",
       "Aixam               4\n",
       "Rover               3\n",
       "Maybach             2\n",
       "MAN                 2\n",
       "Triumph             2\n",
       "MG                  2\n",
       "GAZ                 2\n",
       "Ssangyong           2\n",
       "Moskvich            1\n",
       "Microcar            1\n",
       "Mclaren             1\n",
       "UAZ                 1\n",
       "Pontiac             1\n",
       "Daewoo              1\n",
       "Alfa-Romeo          1\n",
       "Oldsmobile          1\n",
       "Santana             1\n",
       "Alpina              1\n",
       "GMC                 1\n",
       "Man                 1\n",
       "Rolls-Royce         1\n",
       "AC                  1\n",
       "Name: Markė, dtype: int64"
      ]
     },
     "execution_count": 161,
     "metadata": {},
     "output_type": "execute_result"
    }
   ],
   "source": [
    "#Patrikinam automobilių markes\n",
    "df['Markė'].value_counts()"
   ]
  },
  {
   "cell_type": "code",
   "execution_count": 162,
   "id": "0f03d436",
   "metadata": {
    "scrolled": true
   },
   "outputs": [
    {
     "data": {
      "image/png": "[encoded data removed]",
      "text/plain": [
       "<Figure size 640x480 with 1 Axes>"
      ]
     },
     "metadata": {},
     "output_type": "display_data"
    }
   ],
   "source": [
    "#Patrikinam automobilių metus, kai daugiau nei 1985\n",
    "ax = df[df['Metai'] > 1985]['Metai'].plot(kind='hist', bins=30)\n",
    "plt.show()\n"
   ]
  },
  {
   "cell_type": "code",
   "execution_count": 163,
   "id": "6271bf7f",
   "metadata": {
    "scrolled": true
   },
   "outputs": [
    {
     "data": {
      "image/png": "[encoded data removed]",
      "text/plain": [
       "<Figure size 640x480 with 1 Axes>"
      ]
     },
     "metadata": {},
     "output_type": "display_data"
    }
   ],
   "source": [
    "#Patrikinam automobilių ridą, kai ji mažesnė nei 500000\n",
    "ax = df[df['Rida'] <= 500000]['Rida'].plot(kind='hist', bins=50)\n",
    "plt.show()"
   ]
  },
  {
   "cell_type": "code",
   "execution_count": 164,
   "id": "65d8fa49",
   "metadata": {
    "scrolled": true
   },
   "outputs": [
    {
     "data": {
      "text/plain": [
       "<AxesSubplot:>"
      ]
     },
     "execution_count": 164,
     "metadata": {},
     "output_type": "execute_result"
    },
    {
     "data": {
      "image/png": "[encoded data removed]",
      "text/plain": [
       "<Figure size 640x480 with 1 Axes>"
      ]
     },
     "metadata": {},
     "output_type": "display_data"
    }
   ],
   "source": [
    "#Patrikinam automobilių pavarų dėžes\n",
    "df['Pavarų dėžė'].value_counts(dropna=False).plot(kind='bar')"
   ]
  },
  {
   "cell_type": "code",
   "execution_count": 165,
   "id": "93c08066",
   "metadata": {},
   "outputs": [],
   "source": [
    "#Užpildom NaN reikšmes\n",
    "df['Pavarų dėžė'] = df['Pavarų dėžė'].fillna(df['Pavarų dėžė'].mode().iloc[0])"
   ]
  },
  {
   "cell_type": "code",
   "execution_count": 166,
   "id": "b303c49b",
   "metadata": {},
   "outputs": [
    {
     "data": {
      "image/png": "[encoded data removed]",
      "text/plain": [
       "<Figure size 640x480 with 1 Axes>"
      ]
     },
     "metadata": {},
     "output_type": "display_data"
    }
   ],
   "source": [
    "#Patrikinam automobilių darbinį tūrį\n",
    "ax = df[df['Darbinis tūris'] < 5]['Darbinis tūris'].plot(kind='hist', bins=20)\n",
    "plt.show()"
   ]
  },
  {
   "cell_type": "code",
   "execution_count": 167,
   "id": "6fd750a4",
   "metadata": {
    "scrolled": false
   },
   "outputs": [
    {
     "data": {
      "image/png": "[encoded data removed]",
      "text/plain": [
       "<Figure size 640x480 with 1 Axes>"
      ]
     },
     "metadata": {},
     "output_type": "display_data"
    }
   ],
   "source": [
    "#Patrikinam automobilių galią\n",
    "ax = df[df['Galia'] <= 350]['Galia'].plot(kind='hist', bins=50)\n",
    "plt.show()"
   ]
  },
  {
   "cell_type": "code",
   "execution_count": 168,
   "id": "ad4e06de",
   "metadata": {},
   "outputs": [
    {
     "data": {
      "image/png": "[encoded data removed]",
      "text/plain": [
       "<Figure size 640x480 with 1 Axes>"
      ]
     },
     "metadata": {},
     "output_type": "display_data"
    }
   ],
   "source": [
    "#Patrikinam automobilių kainą, kai ji mežesnė, nei 40000\n",
    "ax = df[df['Kaina'] <= 40000]['Kaina'].plot(kind='hist', bins=50)\n",
    "plt.show()"
   ]
  },
  {
   "cell_type": "code",
   "execution_count": 169,
   "id": "6c965dab",
   "metadata": {
    "scrolled": true
   },
   "outputs": [
    {
     "data": {
      "text/plain": [
       "count     12405.00\n",
       "mean      10535.30\n",
       "std       90419.22\n",
       "min         100.00\n",
       "25%        2599.00\n",
       "50%        5900.00\n",
       "75%       13100.00\n",
       "max     9999999.00\n",
       "Name: Kaina, dtype: float64"
      ]
     },
     "execution_count": 169,
     "metadata": {},
     "output_type": "execute_result"
    }
   ],
   "source": [
    "pd.set_option('display.float_format', lambda x: '{:.2f}'.format(x))\n",
    "df['Kaina'].describe()\n"
   ]
  },
  {
   "cell_type": "code",
   "execution_count": 170,
   "id": "86b8bf77",
   "metadata": {},
   "outputs": [],
   "source": [
    "#Ištrinam išskirtis\n",
    "df = df[(df['Kaina'] >= 100) & (df['Kaina'] <= 150000)]"
   ]
  },
  {
   "cell_type": "code",
   "execution_count": 171,
   "id": "d3ac9087",
   "metadata": {},
   "outputs": [],
   "source": [
    "#Ištrinam išskirtis naudojant z scores\n",
    "z_scores = (df['Kaina'] - df['Kaina'].mean()) / df['Kaina'].std()\n",
    "threshold = 3\n",
    "df = df[(z_scores <= threshold) & (z_scores >= -threshold)]"
   ]
  },
  {
   "cell_type": "code",
   "execution_count": 172,
   "id": "1a78b775",
   "metadata": {},
   "outputs": [],
   "source": [
    "#Ištrinam išskirtis naudojant z scores\n",
    "z_scores = (df['Metai'] - df['Metai'].mean()) / df['Metai'].std()\n",
    "threshold = 3\n",
    "df = df[(z_scores <= threshold) & (z_scores >= -threshold)]"
   ]
  },
  {
   "cell_type": "code",
   "execution_count": 173,
   "id": "09c2a763",
   "metadata": {},
   "outputs": [],
   "source": [
    "#Ištrinam išskirtis naudojant z scores\n",
    "z_scores = (df['Rida'] - df['Rida'].mean()) / df['Rida'].std()\n",
    "threshold = 3\n",
    "df = df[(z_scores <= threshold) & (z_scores >= -threshold)]"
   ]
  },
  {
   "cell_type": "code",
   "execution_count": 174,
   "id": "c4748b3e",
   "metadata": {},
   "outputs": [],
   "source": [
    "#Ištrinam išskirtis naudojant z scores\n",
    "z_scores = (df['Darbinis tūris'] - df['Darbinis tūris'].mean()) / df['Darbinis tūris'].std()\n",
    "threshold = 3\n",
    "df = df[(z_scores <= threshold) & (z_scores >= -threshold)]"
   ]
  },
  {
   "cell_type": "code",
   "execution_count": 175,
   "id": "bef7759e",
   "metadata": {},
   "outputs": [],
   "source": [
    "#Ištrinam išskirtis naudojant z scores\n",
    "z_scores = (df['Galia'] - df['Galia'].mean()) / df['Galia'].std()\n",
    "threshold = 3\n",
    "df = df[(z_scores <= threshold) & (z_scores >= -threshold)]"
   ]
  },
  {
   "cell_type": "markdown",
   "id": "b6aa54c8",
   "metadata": {},
   "source": [
    "_____________________________________________________________________"
   ]
  },
  {
   "cell_type": "markdown",
   "id": "2150afc8",
   "metadata": {},
   "source": [
    "# Mašininio mokymosi modelių taikymas"
   ]
  },
  {
   "cell_type": "markdown",
   "id": "3794626f",
   "metadata": {},
   "source": [
    "## Kintamųjų pasirinkimas"
   ]
  },
  {
   "cell_type": "code",
   "execution_count": 176,
   "id": "71a05b6f",
   "metadata": {
    "scrolled": true
   },
   "outputs": [
    {
     "data": {
      "text/plain": [
       "<AxesSubplot:>"
      ]
     },
     "execution_count": 176,
     "metadata": {},
     "output_type": "execute_result"
    },
    {
     "data": {
      "image/png": "[encoded data removed]",
      "text/plain": [
       "<Figure size 640x480 with 2 Axes>"
      ]
     },
     "metadata": {},
     "output_type": "display_data"
    }
   ],
   "source": [
    "# Naudodami heatmap patikriname koreliacijas tarp kintamųjų\n",
    "import seaborn as sns\n",
    "sns.heatmap(df.corr(), annot=True)"
   ]
  },
  {
   "cell_type": "markdown",
   "id": "b1d89580",
   "metadata": {},
   "source": [
    "Kainos ir metai bei kainos ir galia turi stipresnį ryšį, o kainos ir rida bei kainos ir darbinis tūris turi šiek tiek silpnesnį ryšį."
   ]
  },
  {
   "cell_type": "code",
   "execution_count": 177,
   "id": "c069daf2",
   "metadata": {},
   "outputs": [],
   "source": [
    "#Naudojamų bibliotekų įkėlimas\n",
    "from sklearn.model_selection import train_test_split\n",
    "from sklearn.linear_model import LinearRegression\n",
    "from sklearn.tree import DecisionTreeRegressor\n",
    "from sklearn.ensemble import RandomForestRegressor\n",
    "from sklearn.metrics import mean_squared_error\n",
    "from sklearn.preprocessing import OneHotEncoder\n",
    "from sklearn.preprocessing import StandardScaler\n",
    "from sklearn.compose import ColumnTransformer\n",
    "from sklearn.model_selection import cross_val_score\n",
    "from sklearn.model_selection import GridSearchCV\n",
    "from sklearn.model_selection import RandomizedSearchCV\n",
    "from sklearn.metrics import r2_score"
   ]
  },
  {
   "cell_type": "code",
   "execution_count": 178,
   "id": "516528c6",
   "metadata": {},
   "outputs": [
    {
     "data": {
      "text/html": [
       "<div>\n",
       "<style scoped>\n",
       "    .dataframe tbody tr th:only-of-type {\n",
       "        vertical-align: middle;\n",
       "    }\n",
       "\n",
       "    .dataframe tbody tr th {\n",
       "        vertical-align: top;\n",
       "    }\n",
       "\n",
       "    .dataframe thead th {\n",
       "        text-align: right;\n",
       "    }\n",
       "</style>\n",
       "<table border=\"1\" class=\"dataframe\">\n",
       "  <thead>\n",
       "    <tr style=\"text-align: right;\">\n",
       "      <th></th>\n",
       "      <th>Kaina</th>\n",
       "      <th>Markė</th>\n",
       "      <th>Modelis</th>\n",
       "      <th>Metai</th>\n",
       "      <th>Kuro tipas</th>\n",
       "      <th>Kėbulo tipas</th>\n",
       "      <th>Pavarų dėžė</th>\n",
       "      <th>Rida</th>\n",
       "      <th>Darbinis tūris</th>\n",
       "      <th>Galia</th>\n",
       "    </tr>\n",
       "  </thead>\n",
       "  <tbody>\n",
       "    <tr>\n",
       "      <th>0</th>\n",
       "      <td>8500.00</td>\n",
       "      <td>Hyundai</td>\n",
       "      <td>H-1</td>\n",
       "      <td>2011.00</td>\n",
       "      <td>Dyzelinas</td>\n",
       "      <td>Keleivinis mikroautobusas</td>\n",
       "      <td>Mechaninė</td>\n",
       "      <td>267000.00</td>\n",
       "      <td>2.50</td>\n",
       "      <td>125.00</td>\n",
       "    </tr>\n",
       "    <tr>\n",
       "      <th>2</th>\n",
       "      <td>2550.00</td>\n",
       "      <td>Skoda</td>\n",
       "      <td>Fabia</td>\n",
       "      <td>2008.00</td>\n",
       "      <td>Dyzelinas</td>\n",
       "      <td>Hečbekas</td>\n",
       "      <td>Mechaninė</td>\n",
       "      <td>234000.00</td>\n",
       "      <td>1.40</td>\n",
       "      <td>59.00</td>\n",
       "    </tr>\n",
       "    <tr>\n",
       "      <th>3</th>\n",
       "      <td>2950.00</td>\n",
       "      <td>Subaru</td>\n",
       "      <td>OUTBACK</td>\n",
       "      <td>2005.00</td>\n",
       "      <td>Benzinas/Dujos</td>\n",
       "      <td>Universalas</td>\n",
       "      <td>Automatinė</td>\n",
       "      <td>281356.00</td>\n",
       "      <td>2.50</td>\n",
       "      <td>121.00</td>\n",
       "    </tr>\n",
       "  </tbody>\n",
       "</table>\n",
       "</div>"
      ],
      "text/plain": [
       "    Kaina    Markė  Modelis   Metai      Kuro tipas  \\\n",
       "0 8500.00  Hyundai      H-1 2011.00       Dyzelinas   \n",
       "2 2550.00    Skoda    Fabia 2008.00       Dyzelinas   \n",
       "3 2950.00   Subaru  OUTBACK 2005.00  Benzinas/Dujos   \n",
       "\n",
       "                Kėbulo tipas Pavarų dėžė      Rida  Darbinis tūris  Galia  \n",
       "0  Keleivinis mikroautobusas   Mechaninė 267000.00            2.50 125.00  \n",
       "2                   Hečbekas   Mechaninė 234000.00            1.40  59.00  \n",
       "3                Universalas  Automatinė 281356.00            2.50 121.00  "
      ]
     },
     "execution_count": 178,
     "metadata": {},
     "output_type": "execute_result"
    }
   ],
   "source": [
    "df.head(3)"
   ]
  },
  {
   "cell_type": "code",
   "execution_count": 179,
   "id": "a009b899",
   "metadata": {
    "scrolled": true
   },
   "outputs": [
    {
     "name": "stdout",
     "output_type": "stream",
     "text": [
      "<class 'pandas.core.frame.DataFrame'>\n",
      "Int64Index: 11844 entries, 0 to 34124\n",
      "Data columns (total 10 columns):\n",
      " #   Column          Non-Null Count  Dtype  \n",
      "---  ------          --------------  -----  \n",
      " 0   Kaina           11844 non-null  float64\n",
      " 1   Markė           11844 non-null  object \n",
      " 2   Modelis         11843 non-null  object \n",
      " 3   Metai           11844 non-null  float64\n",
      " 4   Kuro tipas      11844 non-null  object \n",
      " 5   Kėbulo tipas    11844 non-null  object \n",
      " 6   Pavarų dėžė     11844 non-null  object \n",
      " 7   Rida            11844 non-null  float64\n",
      " 8   Darbinis tūris  11844 non-null  float64\n",
      " 9   Galia           11844 non-null  float64\n",
      "dtypes: float64(5), object(5)\n",
      "memory usage: 1017.8+ KB\n"
     ]
    }
   ],
   "source": [
    "# Mašininiam mokymuisi naudojami 11844 įrašai\n",
    "df.info()"
   ]
  },
  {
   "cell_type": "code",
   "execution_count": 180,
   "id": "15184dc6",
   "metadata": {},
   "outputs": [],
   "source": [
    "#Geriausiaias rezultatas gautas naudojant visus skaitinius ir kategornius kintamuosius:\n",
    "\n",
    "#Apibrėžiami skaitiniai požymiai\n",
    "num_features = ['Metai','Galia','Rida','Darbinis tūris']\n",
    "#Apibrėžiami kategoriniai požymiai\n",
    "cat_features = ['Modelis','Markė', 'Kuro tipas','Kėbulo tipas','Pavarų dėžė']"
   ]
  },
  {
   "cell_type": "markdown",
   "id": "7297e365",
   "metadata": {},
   "source": [
    "_________________________________________________"
   ]
  },
  {
   "cell_type": "markdown",
   "id": "8fe4fb66",
   "metadata": {},
   "source": [
    "## Modelių pasirinkimas ir taikymas"
   ]
  },
  {
   "cell_type": "code",
   "execution_count": 181,
   "id": "a80653dc",
   "metadata": {},
   "outputs": [],
   "source": [
    "# Konvertuojame kategorinius kintamuosius į \"dummy\" kintamuosius \n",
    "df_with_dummy_cats = pd.get_dummies(df, columns=['Modelis','Markė','Kuro tipas', 'Kėbulo tipas', 'Pavarų dėžė'])\n",
    "\n",
    "# Dabar mūsų požymiai yra 'Metai','Galia','Rida','Darbinis tūris' ir visi \"dummy\" stulpeliai iš kategorių kintamųjų\n",
    "features = num_features + [col for col in df_with_dummy_cats.columns if 'Markė' in col or 'Kuro tipas' in col or 'Kėbulo tipas' in col or 'Pavarų dėžė' in col]\n",
    "\n",
    "# X pažymimi požymiai, o y - prognozuojama kaina\n",
    "X = df_with_dummy_cats[features]\n",
    "y = df_with_dummy_cats['Kaina']\n",
    "\n",
    "# Daliname duomenis į treniravimosi ir testavimo rinkinius santykiu 80/20\n",
    "X_train, X_test, y_train, y_test = train_test_split(X, y, test_size=0.2, random_state=42)\n"
   ]
  },
  {
   "cell_type": "code",
   "execution_count": 182,
   "id": "37a47631",
   "metadata": {},
   "outputs": [
    {
     "data": {
      "text/plain": [
       "RandomForestRegressor(random_state=42)"
      ]
     },
     "execution_count": 182,
     "metadata": {},
     "output_type": "execute_result"
    }
   ],
   "source": [
    "# Treniruojami trys modeliai labiausiai tinkantys šio tipo uždaviniui\n",
    "# Linear Regression modelio taikymas\n",
    "lr = LinearRegression()\n",
    "lr.fit(X_train, y_train)\n",
    "\n",
    "# Decision Tree su cross validation modelio taikymas\n",
    "dt = DecisionTreeRegressor(random_state=42)\n",
    "dt.fit(X_train, y_train)\n",
    "scores = cross_val_score(dt, X_train, y_train, scoring='neg_root_mean_squared_error', cv=5)\n",
    "np.mean(-scores)\n",
    "\n",
    "# Random Forest modelio taikymas\n",
    "rf = RandomForestRegressor(n_estimators=100, random_state=42)\n",
    "rf.fit(X_train, y_train)"
   ]
  },
  {
   "cell_type": "code",
   "execution_count": 183,
   "id": "cd30b57c",
   "metadata": {},
   "outputs": [
    {
     "name": "stdout",
     "output_type": "stream",
     "text": [
      "Gauti rezultatai konvertavus kategorius kintamuosius į 'dummy': \n",
      "Linear Regression RMSE: 3889.8409538679844\n",
      "Decision Tree RMSE: 3248.149260129949\n",
      "Random Forest RMSE: 2315.82062586547\n"
     ]
    }
   ],
   "source": [
    "# Modelių testavimas\n",
    "lr_pred = lr.predict(X_test)\n",
    "dt_pred = dt.predict(X_test)\n",
    "rf_pred = rf.predict(X_test)\n",
    "\n",
    "print(\"Gauti rezultatai konvertavus kategorius kintamuosius į 'dummy': \")\n",
    "print(f'Linear Regression RMSE: {mean_squared_error(y_test, lr_pred, squared=False)}')\n",
    "print(f'Decision Tree RMSE: {mean_squared_error(y_test, dt_pred, squared=False)}')\n",
    "print(f'Random Forest RMSE: {mean_squared_error(y_test, rf_pred, squared=False)}')"
   ]
  },
  {
   "cell_type": "code",
   "execution_count": 184,
   "id": "d63efd30",
   "metadata": {},
   "outputs": [
    {
     "data": {
      "text/html": [
       "<div>\n",
       "<style scoped>\n",
       "    .dataframe tbody tr th:only-of-type {\n",
       "        vertical-align: middle;\n",
       "    }\n",
       "\n",
       "    .dataframe tbody tr th {\n",
       "        vertical-align: top;\n",
       "    }\n",
       "\n",
       "    .dataframe thead th {\n",
       "        text-align: right;\n",
       "    }\n",
       "</style>\n",
       "<table border=\"1\" class=\"dataframe\">\n",
       "  <thead>\n",
       "    <tr style=\"text-align: right;\">\n",
       "      <th></th>\n",
       "      <th>Kaina</th>\n",
       "      <th>Markė</th>\n",
       "      <th>Modelis</th>\n",
       "      <th>Metai</th>\n",
       "      <th>Kuro tipas</th>\n",
       "      <th>Kėbulo tipas</th>\n",
       "      <th>Pavarų dėžė</th>\n",
       "      <th>Rida</th>\n",
       "      <th>Darbinis tūris</th>\n",
       "      <th>Galia</th>\n",
       "    </tr>\n",
       "  </thead>\n",
       "  <tbody>\n",
       "    <tr>\n",
       "      <th>0</th>\n",
       "      <td>8500.00</td>\n",
       "      <td>Hyundai</td>\n",
       "      <td>H-1</td>\n",
       "      <td>2011.00</td>\n",
       "      <td>Dyzelinas</td>\n",
       "      <td>Keleivinis mikroautobusas</td>\n",
       "      <td>Mechaninė</td>\n",
       "      <td>267000.00</td>\n",
       "      <td>2.50</td>\n",
       "      <td>125.00</td>\n",
       "    </tr>\n",
       "    <tr>\n",
       "      <th>2</th>\n",
       "      <td>2550.00</td>\n",
       "      <td>Skoda</td>\n",
       "      <td>Fabia</td>\n",
       "      <td>2008.00</td>\n",
       "      <td>Dyzelinas</td>\n",
       "      <td>Hečbekas</td>\n",
       "      <td>Mechaninė</td>\n",
       "      <td>234000.00</td>\n",
       "      <td>1.40</td>\n",
       "      <td>59.00</td>\n",
       "    </tr>\n",
       "    <tr>\n",
       "      <th>3</th>\n",
       "      <td>2950.00</td>\n",
       "      <td>Subaru</td>\n",
       "      <td>OUTBACK</td>\n",
       "      <td>2005.00</td>\n",
       "      <td>Benzinas/Dujos</td>\n",
       "      <td>Universalas</td>\n",
       "      <td>Automatinė</td>\n",
       "      <td>281356.00</td>\n",
       "      <td>2.50</td>\n",
       "      <td>121.00</td>\n",
       "    </tr>\n",
       "  </tbody>\n",
       "</table>\n",
       "</div>"
      ],
      "text/plain": [
       "    Kaina    Markė  Modelis   Metai      Kuro tipas  \\\n",
       "0 8500.00  Hyundai      H-1 2011.00       Dyzelinas   \n",
       "2 2550.00    Skoda    Fabia 2008.00       Dyzelinas   \n",
       "3 2950.00   Subaru  OUTBACK 2005.00  Benzinas/Dujos   \n",
       "\n",
       "                Kėbulo tipas Pavarų dėžė      Rida  Darbinis tūris  Galia  \n",
       "0  Keleivinis mikroautobusas   Mechaninė 267000.00            2.50 125.00  \n",
       "2                   Hečbekas   Mechaninė 234000.00            1.40  59.00  \n",
       "3                Universalas  Automatinė 281356.00            2.50 121.00  "
      ]
     },
     "execution_count": 184,
     "metadata": {},
     "output_type": "execute_result"
    }
   ],
   "source": [
    "# Naudojame orginalų duomenų rinkinį kitų modelių taikymui\n",
    "df.head(3)"
   ]
  },
  {
   "cell_type": "code",
   "execution_count": 185,
   "id": "f98790cc",
   "metadata": {},
   "outputs": [],
   "source": [
    "# Kategorinių kintamųjų transformavimas naudojant OneHotEncoder\n",
    "one_hot = OneHotEncoder()\n",
    "# Skaitinių kintamųjų standartizavimas\n",
    "scaler = StandardScaler()\n",
    "\n",
    "transformer = ColumnTransformer([(\"one_hot\", one_hot, cat_features), (\"standard_scaler\", scaler, num_features)], \n",
    "                                remainder=\"passthrough\")\n",
    "\n",
    "# Transformuojami kintamieji\n",
    "X_transformed = transformer.fit_transform(df.drop('Kaina', axis=1))\n",
    "y = df['Kaina']"
   ]
  },
  {
   "cell_type": "code",
   "execution_count": 186,
   "id": "7a9e9326",
   "metadata": {},
   "outputs": [],
   "source": [
    "# Daliname duomenis į treniravimosi ir testavimo rinkinius santykiu 80/20\n",
    "X_train, X_test, y_train, y_test = train_test_split(X_transformed, y, test_size=0.2, random_state=42)"
   ]
  },
  {
   "cell_type": "code",
   "execution_count": 187,
   "id": "2ab9ecbe",
   "metadata": {},
   "outputs": [
    {
     "data": {
      "text/plain": [
       "RandomForestRegressor(random_state=42)"
      ]
     },
     "execution_count": 187,
     "metadata": {},
     "output_type": "execute_result"
    }
   ],
   "source": [
    "# Linear Regression modelio taikymas\n",
    "lr = LinearRegression()\n",
    "lr.fit(X_train, y_train)\n",
    "\n",
    "# Decision Tree su cross validation modelio taikymas\n",
    "dt = DecisionTreeRegressor(random_state=42)\n",
    "dt.fit(X_train, y_train)\n",
    "scores = cross_val_score(dt, X_train, y_train, scoring='neg_root_mean_squared_error', cv=5)\n",
    "np.mean(-scores)\n",
    "\n",
    "# Random Forest modelio taikymas\n",
    "rf = RandomForestRegressor(n_estimators=100, random_state=42)\n",
    "rf.fit(X_train, y_train)"
   ]
  },
  {
   "cell_type": "code",
   "execution_count": 188,
   "id": "6359c907",
   "metadata": {},
   "outputs": [
    {
     "name": "stdout",
     "output_type": "stream",
     "text": [
      "Gauti rezultatai konvertavus kategorius kintamuosius su 'OneHotEncoder', o skaitinius standartizavus su 'StandardScaler': \n",
      "Linear Regression RMSE: 3481.9534573801984\n",
      "Decision Tree RMSE: 3022.4708497467095\n",
      "Random Forest RMSE: 2286.4412753444085\n"
     ]
    }
   ],
   "source": [
    "# Modelių testavimas\n",
    "lr_pred = lr.predict(X_test)\n",
    "dt_pred = dt.predict(X_test)\n",
    "rf_pred = rf.predict(X_test)\n",
    "\n",
    "print(\"Gauti rezultatai konvertavus kategorius kintamuosius su 'OneHotEncoder', o skaitinius standartizavus su 'StandardScaler': \")\n",
    "print(f'Linear Regression RMSE: {mean_squared_error(y_test, lr_pred, squared=False)}')\n",
    "print(f'Decision Tree RMSE: {mean_squared_error(y_test, dt_pred, squared=False)}')\n",
    "print(f'Random Forest RMSE: {mean_squared_error(y_test, rf_pred, squared=False)}')"
   ]
  },
  {
   "cell_type": "markdown",
   "id": "3876a3cd",
   "metadata": {},
   "source": [
    "Konvertavus kategorius kintamuosius su OneHotEncoder, o skaitinius standartizavus gauti geresni visų modelių rezultatai"
   ]
  },
  {
   "cell_type": "markdown",
   "id": "7e9347c1",
   "metadata": {},
   "source": [
    "Kadangi buvo gauti geriausi rezultatai su Random Forest geriausių hiperparametrų ieškoma tik šiam modeliui"
   ]
  },
  {
   "cell_type": "code",
   "execution_count": 189,
   "id": "6f088a08",
   "metadata": {},
   "outputs": [
    {
     "name": "stdout",
     "output_type": "stream",
     "text": [
      "Geriausi parametrai su Randomized Search CV:  {'n_estimators': 101, 'max_features': 234, 'max_depth': 96}\n",
      "Random Forest RMSE: 2225.0172320974434\n"
     ]
    }
   ],
   "source": [
    "# Automatiškai ieškome geriausių hiperparametrų Random Forest modeliui su RandomizedSearchCV\n",
    "\n",
    "# Nustatome parametrų reikšmių intervalus\n",
    "param_distribs = {\n",
    "        'n_estimators': range(2, 150),\n",
    "        'max_features': range(2, 500), \n",
    "        'max_depth': range(2, 100)\n",
    "    }\n",
    "\n",
    "# Naudojame Random Forest modelį su RandomizedSearchCV\n",
    "forest_reg = RandomForestRegressor(n_jobs=3, random_state=42)\n",
    "forest_rnd_search = RandomizedSearchCV(forest_reg, param_distributions=param_distribs,\n",
    "                                       n_iter=5, cv=3, scoring='neg_root_mean_squared_error', \n",
    "                                       random_state=42)\n",
    "\n",
    "# Treniruojame modelį\n",
    "forest_rnd_search.fit(X_train, y_train)\n",
    "\n",
    "# Gauname geriausias parametrų reikšmes\n",
    "print(\"Geriausi parametrai su Randomized Search CV: \", forest_rnd_search.best_params_)\n",
    "\n",
    "# Atlikiame prognozes\n",
    "rf_pred = forest_rnd_search.predict(X_test)\n",
    "\n",
    "# Įvertiname modelio efektyvumą\n",
    "print(f'Random Forest RMSE: {mean_squared_error(y_test, rf_pred, squared=False)}')"
   ]
  },
  {
   "cell_type": "code",
   "execution_count": 190,
   "id": "2e54b9fc",
   "metadata": {},
   "outputs": [
    {
     "name": "stdout",
     "output_type": "stream",
     "text": [
      "R-squared: 0.9195226207445448\n"
     ]
    }
   ],
   "source": [
    "# Suskaičiuojamas R-squared score\n",
    "r2 = r2_score(y_test, rf_pred)\n",
    "print(f'R-squared: {r2}')"
   ]
  },
  {
   "cell_type": "markdown",
   "id": "d0bbd4c3",
   "metadata": {},
   "source": [
    "Išvada: aukštas R-squared score rodiklis paaškina apie 91,9% duomenų variaciją"
   ]
  },
  {
   "cell_type": "code",
   "execution_count": 191,
   "id": "fe91e144",
   "metadata": {},
   "outputs": [
    {
     "name": "stdout",
     "output_type": "stream",
     "text": [
      "Geriausios parametrų reikšmės su Grid Search CV:  {'max_depth': 40, 'max_features': 300, 'n_estimators': 200}\n",
      "Random Forest RMSE: 2238.2316616821927\n"
     ]
    }
   ],
   "source": [
    "# Automatiškai ieškome geriausių hiperparametrų Random Forest modeliui su GridSearchCV\n",
    "\n",
    "# Nustatome parametrų reikšmių intervalus\n",
    "param_distribs = {\n",
    "        'n_estimators': [30, 100, 200],\n",
    "        'max_features': [30, 200, 300],\n",
    "        'max_depth': [30, 40, 50]\n",
    "    }\n",
    "\n",
    "# Naudojame Random Forest modelį su GridSearchCV\n",
    "forest_reg = RandomForestRegressor(n_jobs=3, random_state=42)\n",
    "forest_grd_search = GridSearchCV(forest_reg, param_distribs,\n",
    "                                 cv=3, scoring='neg_root_mean_squared_error')\n",
    "\n",
    "# Treniruojame modelį\n",
    "forest_grd_search.fit(X_train, y_train)\n",
    "\n",
    "# Gauname geriausias parametrų reikšmes\n",
    "print(\"Geriausios parametrų reikšmės su Grid Search CV: \", forest_grd_search.best_params_)\n",
    "\n",
    "# Atlikiame prognozes\n",
    "rf_pred = forest_grd_search.predict(X_test)\n",
    "\n",
    "# Įvertiname modelio efektyvumą\n",
    "print(f'Random Forest RMSE: {mean_squared_error(y_test, rf_pred, squared=False)}')"
   ]
  },
  {
   "cell_type": "code",
   "execution_count": 192,
   "id": "ea21befa",
   "metadata": {},
   "outputs": [
    {
     "name": "stdout",
     "output_type": "stream",
     "text": [
      "R-squared: 0.918563868056424\n"
     ]
    }
   ],
   "source": [
    "# Suskaičiuojamas R-squared score\n",
    "r2 = r2_score(y_test, rf_pred)\n",
    "print(f'R-squared: {r2}')"
   ]
  },
  {
   "cell_type": "markdown",
   "id": "2fa258e9",
   "metadata": {},
   "source": [
    "Išvada: aukštas R-squared score rodiklis paaškina apie 91,8% duomenų variaciją"
   ]
  },
  {
   "cell_type": "markdown",
   "id": "2aed1ef0",
   "metadata": {},
   "source": [
    "Galutinė išvada: Geriausias modelio efektyvumas pasiektas su 'Random Forest Regressor' naudojant 'Randomized Search CV'"
   ]
  },
  {
   "cell_type": "code",
   "execution_count": null,
   "id": "7b4acdd2",
   "metadata": {},
   "outputs": [],
   "source": []
  },
  {
   "cell_type": "code",
   "execution_count": null,
   "id": "9a357ee9",
   "metadata": {},
   "outputs": [],
   "source": []
  },
  {
   "cell_type": "code",
   "execution_count": null,
   "id": "16055e2c",
   "metadata": {},
   "outputs": [],
   "source": []
  },
  {
   "cell_type": "code",
   "execution_count": null,
   "id": "c2ff3d21",
   "metadata": {},
   "outputs": [],
   "source": []
  },
  {
   "cell_type": "code",
   "execution_count": null,
   "id": "41d59f9e",
   "metadata": {},
   "outputs": [],
   "source": []
  }
 ],
 "metadata": {
  "kernelspec": {
   "display_name": "Python 3 (ipykernel)",
   "language": "python",
   "name": "python3"
  },
  "language_info": {
   "codemirror_mode": {
    "name": "ipython",
    "version": 3
   },
   "file_extension": ".py",
   "mimetype": "text/x-python",
   "name": "python",
   "nbconvert_exporter": "python",
   "pygments_lexer": "ipython3",
   "version": "3.9.13"
  },
  "toc": {
   "base_numbering": 1,
   "nav_menu": {},
   "number_sections": true,
   "sideBar": true,
   "skip_h1_title": false,
   "title_cell": "Table of Contents",
   "title_sidebar": "Contents",
   "toc_cell": false,
   "toc_position": {},
   "toc_section_display": true,
   "toc_window_display": false
  }
 },
 "nbformat": 4,
 "nbformat_minor": 5
}
